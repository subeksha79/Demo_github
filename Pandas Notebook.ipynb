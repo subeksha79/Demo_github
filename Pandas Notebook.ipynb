{
 "cells": [
  {
   "cell_type": "markdown",
   "id": "fbe2725f",
   "metadata": {
    "cell_id": "00000-1e8d310b-b3b2-45cc-8e2d-a5e0cfc139e2",
    "deepnote_cell_type": "markdown"
   },
   "source": [
    "<img src=\"https://github.com/CorndelDataAnalyticsDiploma/workshop/blob/master/Corndel%20Digital%20Logo%20Centre.png?raw=true\" alt=\"Corndel\" width =\"301.5\" height=216>"
   ]
  },
  {
   "cell_type": "markdown",
   "id": "878a2b5e",
   "metadata": {
    "cell_id": "00001-3b97d3ed-6de1-4d6d-b20d-4b990376e01e",
    "deepnote_cell_type": "markdown"
   },
   "source": [
    "# Learning to use Pandas for data analysis by Subeksha \n",
    "\n",
    "#### Welcome to the first workshop on Pandas!\n",
    "\n",
    "Note: Depending on your programming journey, a lot of this may seem new. My advice is:\n",
    "\n",
    "1. Don't panic.\n",
    "2. Read the code - then read the documentation. Google anything weird.\n",
    "3. Comment wherever you can to secure learning or question unknowns.\n",
    "4. Take. It. Slow. Remember the time frame.\n",
    "5. Persevere and revisit independently - treat this notebook like a reference and a starting point.\n",
    "\n",
    "<hr>"
   ]
  },
  {
   "cell_type": "markdown",
   "id": "02afa4ba",
   "metadata": {
    "cell_id": "00002-785872b7-d47c-4b15-9c99-4122598982d1",
    "deepnote_cell_type": "markdown"
   },
   "source": [
    "<a id='Contents'></a>\n",
    "## Contents\n",
    "In this workshop, we will:<b>\n",
    "\n",
    "- [Import](#import) some data from csv files \n",
    "- [Explore](#explore) the data\n",
    "- [Select](#select) the columns that we're interested in \n",
    "- [Filter](#filter) the rows of the DataFrame \n",
    "- [Group](#group) and aggregate the data \n",
    "- [Merge](#merge) DataFrames together \n",
    "- [Export](#export) the filtered data to a CSV or Excel spreadsheet\n",
    "- [Further Reading](#further)\n",
    "\n",
    "</b>"
   ]
  },
  {
   "cell_type": "markdown",
   "id": "e373b34b",
   "metadata": {
    "cell_id": "00005-c9213ef8-ce9a-4173-bd21-e01b98551b87",
    "deepnote_cell_type": "markdown"
   },
   "source": [
    "<a id=\"import\"></a>\n",
    "# Import packages and read data\n",
    "[Back to Contents](#Contents)\n",
    "\n",
    "First, we will import the packages that we will need later. In this case, there is only one: **pandas**\n",
    "\n",
    "Pandas manages data tables and column-based data structures, which we will use to do our analysis. We import this package and give it an alias ``pd``\n",
    "\n",
    "The syntax for importing a package is:\n",
    "> <span style=\"color:blue\">\\# *Import the xxx package*</span><br>\n",
    "<span style=\"color:green;font-weight:bold\">import</span> xxx <span style=\"color:green;font-weight:bold\">as</span> x \n",
    "\n",
    "\n",
    "In this example, *xxx* is the name of the package and *x* is the alias we give it to make it easier to refer to later.\n",
    "\n",
    "You can find **pandas** documentation [here](https://pandas.pydata.org/)\n",
    "\n",
    "**Watch out: Python is case sensitive!**"
   ]
  },
  {
   "cell_type": "code",
   "execution_count": 1,
   "id": "cf6d22b4",
   "metadata": {
    "cell_id": "00006-14f92798-3237-4c2a-9843-f662cbef56a9",
    "deepnote_cell_type": "code",
    "deepnote_to_be_reexecuted": false,
    "execution_millis": 16,
    "execution_start": 1627296716032,
    "source_hash": "7957de76"
   },
   "outputs": [],
   "source": [
    "# Import the pandas package\n",
    "import pandas as pd"
   ]
  },
  {
   "cell_type": "code",
   "execution_count": 2,
   "id": "7f0fb835",
   "metadata": {
    "cell_id": "00007-2e34e643-c359-41f0-8b00-9ab4e84b4cb9",
    "deepnote_cell_type": "code",
    "deepnote_to_be_reexecuted": false,
    "execution_millis": 23,
    "execution_start": 1627296716049,
    "source_hash": "598bbc5b"
   },
   "outputs": [],
   "source": [
    "## Read the customer table and assign it the label 'customer' so we can refer to it later\n",
    "\n",
    "customer = pd.read_csv('./data/customer.csv')"
   ]
  },
  {
   "cell_type": "markdown",
   "id": "51fa0989",
   "metadata": {
    "cell_id": "00008-b8e46057-e877-4456-8d15-f0885eba1107",
    "deepnote_cell_type": "markdown"
   },
   "source": [
    "---\n",
    "### Let's break down this line to see what's happening:"
   ]
  },
  {
   "cell_type": "markdown",
   "id": "4fd97a3a",
   "metadata": {
    "cell_id": "00009-fa2098e3-1b5f-4368-b8c0-bcd97bd77b7c",
    "deepnote_cell_type": "markdown"
   },
   "source": [
    "### ``'./data/customer.csv'`` is a *string*\n",
    "\n",
    "In Python text is stored as a **string**, a sequence of characters enclosed in *'single quotes'*, *\"double quotes\"*, or *\"\"\"triple quotes\"\"\"*.\n",
    "\n",
    "Everything in Python is an **object** and every object in Python has a **type**. Computer programs typcally keep track of a range of data types. For example, `1.5` is a floating point number, while `1` is an integer. Programs need to distinguish between these two types for various reasons:\n",
    "\n",
    "- They are stored in memory differently.\n",
    "- Their arithmetic operations are different\n",
    "\n",
    "\n",
    "Some of the basic numerical types in Python include:\n",
    "\n",
    "- **`int`** (integer; a whole number with no decimal place)\n",
    "  - `10`\n",
    "  - `-3`\n",
    "  \n",
    "- **`float`** (float; a number that has a decimal place)\n",
    "  - `7.41`\n",
    "  - `-0.006`\n"
   ]
  },
  {
   "cell_type": "markdown",
   "id": "0e0c6fba",
   "metadata": {
    "cell_id": "00010-2a9524d9-8614-4ed9-b478-d2eca1ff874a",
    "deepnote_cell_type": "markdown"
   },
   "source": [
    "### ``pd.read_csv`` is a function in the Pandas module\n",
    "\n",
    "Remember from SQL: ``Server.Database.Schema.Table.Column``\n",
    "\n",
    "**``.``** are used to denote nested objects\n",
    "\n",
    "``read_csv`` is a Pandas function, so part of ``pd``"
   ]
  },
  {
   "cell_type": "markdown",
   "id": "981c1f96",
   "metadata": {
    "cell_id": "00011-a0d1fb93-0c80-4c10-a078-d0f68f6ddacb",
    "deepnote_cell_type": "markdown"
   },
   "source": [
    "### ``customer =`` assigns our object to the customer variable \n",
    "\n",
    "Our customer table is given a label ``customer``. These *variables* are like the aliases we saw in SQL. \n",
    "\n",
    "In Python, a variable is a name you specify in your code that maps to a particular *object*, object *instance*, or value.\n",
    "\n",
    "By defining variables, we can refer to things by names that make sense to us. Names for variables can only contain letters, underscores (`_`), or numbers (no spaces, dashes, or other characters). *Variable names must start with a letter or underscore - good practice is to start with a letter*\n",
    "\n",
    "We assign a label to an object with a single ``=``\n"
   ]
  },
  {
   "cell_type": "markdown",
   "id": "9dd818b9",
   "metadata": {
    "cell_id": "00012-f6c11eca-febe-43ed-b4d7-f862fef55850",
    "deepnote_cell_type": "markdown"
   },
   "source": [
    "---\n",
    "<a id=\"explore\"></a>\n",
    "# Exploring the data\n",
    "[Back to Contents](#Contents)\n",
    "\n",
    "Next, we will explore the data by using the *.head()* method to see the top rows and the *columns* attribute to see the names of all the columns.\n",
    "\n",
    "The syntax for using the *.head()* method to get the top rows is:\n",
    "> DataFrame.head()\n",
    "\n",
    "In this example *DataFrame* is the name of the table.\n",
    "\n",
    "[The ``head`` documentation](https://pandas.pydata.org/pandas-docs/stable/reference/api/pandas.DataFrame.head.html)"
   ]
  },
  {
   "cell_type": "code",
   "execution_count": 3,
   "id": "0816185c",
   "metadata": {
    "cell_id": "00013-b88de5dc-9b29-4b4d-bd1b-8527b684bfbb",
    "deepnote_cell_type": "code",
    "deepnote_to_be_reexecuted": false,
    "execution_millis": 58,
    "execution_start": 1627296725956,
    "source_hash": "4d986bea"
   },
   "outputs": [
    {
     "data": {
      "text/html": [
       "<div>\n",
       "<style scoped>\n",
       "    .dataframe tbody tr th:only-of-type {\n",
       "        vertical-align: middle;\n",
       "    }\n",
       "\n",
       "    .dataframe tbody tr th {\n",
       "        vertical-align: top;\n",
       "    }\n",
       "\n",
       "    .dataframe thead th {\n",
       "        text-align: right;\n",
       "    }\n",
       "</style>\n",
       "<table border=\"1\" class=\"dataframe\">\n",
       "  <thead>\n",
       "    <tr style=\"text-align: right;\">\n",
       "      <th></th>\n",
       "      <th>customer_id</th>\n",
       "      <th>store_id</th>\n",
       "      <th>first_name</th>\n",
       "      <th>last_name</th>\n",
       "      <th>email</th>\n",
       "      <th>address_id</th>\n",
       "      <th>activebool</th>\n",
       "      <th>create_date</th>\n",
       "      <th>last_update</th>\n",
       "      <th>active</th>\n",
       "    </tr>\n",
       "  </thead>\n",
       "  <tbody>\n",
       "    <tr>\n",
       "      <th>0</th>\n",
       "      <td>1</td>\n",
       "      <td>1</td>\n",
       "      <td>MARY</td>\n",
       "      <td>SMITH</td>\n",
       "      <td>MARY.SMITH@sakilacustomer.org</td>\n",
       "      <td>5</td>\n",
       "      <td>True</td>\n",
       "      <td>2006-02-14</td>\n",
       "      <td>2006-02-15 09:57:20</td>\n",
       "      <td>1</td>\n",
       "    </tr>\n",
       "    <tr>\n",
       "      <th>1</th>\n",
       "      <td>2</td>\n",
       "      <td>1</td>\n",
       "      <td>PATRICIA</td>\n",
       "      <td>JOHNSON</td>\n",
       "      <td>PATRICIA.JOHNSON@sakilacustomer.org</td>\n",
       "      <td>6</td>\n",
       "      <td>True</td>\n",
       "      <td>2006-02-14</td>\n",
       "      <td>2006-02-15 09:57:20</td>\n",
       "      <td>1</td>\n",
       "    </tr>\n",
       "    <tr>\n",
       "      <th>2</th>\n",
       "      <td>3</td>\n",
       "      <td>1</td>\n",
       "      <td>LINDA</td>\n",
       "      <td>WILLIAMS</td>\n",
       "      <td>LINDA.WILLIAMS@sakilacustomer.org</td>\n",
       "      <td>7</td>\n",
       "      <td>True</td>\n",
       "      <td>2006-02-14</td>\n",
       "      <td>2006-02-15 09:57:20</td>\n",
       "      <td>1</td>\n",
       "    </tr>\n",
       "    <tr>\n",
       "      <th>3</th>\n",
       "      <td>4</td>\n",
       "      <td>2</td>\n",
       "      <td>BARBARA</td>\n",
       "      <td>JONES</td>\n",
       "      <td>BARBARA.JONES@sakilacustomer.org</td>\n",
       "      <td>8</td>\n",
       "      <td>True</td>\n",
       "      <td>2006-02-14</td>\n",
       "      <td>2006-02-15 09:57:20</td>\n",
       "      <td>1</td>\n",
       "    </tr>\n",
       "    <tr>\n",
       "      <th>4</th>\n",
       "      <td>5</td>\n",
       "      <td>1</td>\n",
       "      <td>ELIZABETH</td>\n",
       "      <td>BROWN</td>\n",
       "      <td>ELIZABETH.BROWN@sakilacustomer.org</td>\n",
       "      <td>9</td>\n",
       "      <td>True</td>\n",
       "      <td>2006-02-14</td>\n",
       "      <td>2006-02-15 09:57:20</td>\n",
       "      <td>1</td>\n",
       "    </tr>\n",
       "    <tr>\n",
       "      <th>...</th>\n",
       "      <td>...</td>\n",
       "      <td>...</td>\n",
       "      <td>...</td>\n",
       "      <td>...</td>\n",
       "      <td>...</td>\n",
       "      <td>...</td>\n",
       "      <td>...</td>\n",
       "      <td>...</td>\n",
       "      <td>...</td>\n",
       "      <td>...</td>\n",
       "    </tr>\n",
       "    <tr>\n",
       "      <th>594</th>\n",
       "      <td>595</td>\n",
       "      <td>1</td>\n",
       "      <td>TERRENCE</td>\n",
       "      <td>GUNDERSON</td>\n",
       "      <td>TERRENCE.GUNDERSON@sakilacustomer.org</td>\n",
       "      <td>601</td>\n",
       "      <td>True</td>\n",
       "      <td>2006-02-14</td>\n",
       "      <td>2006-02-15 09:57:20</td>\n",
       "      <td>1</td>\n",
       "    </tr>\n",
       "    <tr>\n",
       "      <th>595</th>\n",
       "      <td>596</td>\n",
       "      <td>1</td>\n",
       "      <td>ENRIQUE</td>\n",
       "      <td>FORSYTHE</td>\n",
       "      <td>ENRIQUE.FORSYTHE@sakilacustomer.org</td>\n",
       "      <td>602</td>\n",
       "      <td>True</td>\n",
       "      <td>2006-02-14</td>\n",
       "      <td>2006-02-15 09:57:20</td>\n",
       "      <td>1</td>\n",
       "    </tr>\n",
       "    <tr>\n",
       "      <th>596</th>\n",
       "      <td>597</td>\n",
       "      <td>1</td>\n",
       "      <td>FREDDIE</td>\n",
       "      <td>DUGGAN</td>\n",
       "      <td>FREDDIE.DUGGAN@sakilacustomer.org</td>\n",
       "      <td>603</td>\n",
       "      <td>True</td>\n",
       "      <td>2006-02-14</td>\n",
       "      <td>2006-02-15 09:57:20</td>\n",
       "      <td>1</td>\n",
       "    </tr>\n",
       "    <tr>\n",
       "      <th>597</th>\n",
       "      <td>598</td>\n",
       "      <td>1</td>\n",
       "      <td>WADE</td>\n",
       "      <td>DELVALLE</td>\n",
       "      <td>WADE.DELVALLE@sakilacustomer.org</td>\n",
       "      <td>604</td>\n",
       "      <td>True</td>\n",
       "      <td>2006-02-14</td>\n",
       "      <td>2006-02-15 09:57:20</td>\n",
       "      <td>1</td>\n",
       "    </tr>\n",
       "    <tr>\n",
       "      <th>598</th>\n",
       "      <td>599</td>\n",
       "      <td>2</td>\n",
       "      <td>AUSTIN</td>\n",
       "      <td>CINTRON</td>\n",
       "      <td>AUSTIN.CINTRON@sakilacustomer.org</td>\n",
       "      <td>605</td>\n",
       "      <td>True</td>\n",
       "      <td>2006-02-14</td>\n",
       "      <td>2006-02-15 09:57:20</td>\n",
       "      <td>1</td>\n",
       "    </tr>\n",
       "  </tbody>\n",
       "</table>\n",
       "<p>599 rows × 10 columns</p>\n",
       "</div>"
      ],
      "text/plain": [
       "     customer_id  store_id first_name  last_name  \\\n",
       "0              1         1       MARY      SMITH   \n",
       "1              2         1   PATRICIA    JOHNSON   \n",
       "2              3         1      LINDA   WILLIAMS   \n",
       "3              4         2    BARBARA      JONES   \n",
       "4              5         1  ELIZABETH      BROWN   \n",
       "..           ...       ...        ...        ...   \n",
       "594          595         1   TERRENCE  GUNDERSON   \n",
       "595          596         1    ENRIQUE   FORSYTHE   \n",
       "596          597         1    FREDDIE     DUGGAN   \n",
       "597          598         1       WADE   DELVALLE   \n",
       "598          599         2     AUSTIN    CINTRON   \n",
       "\n",
       "                                     email  address_id  activebool  \\\n",
       "0            MARY.SMITH@sakilacustomer.org           5        True   \n",
       "1      PATRICIA.JOHNSON@sakilacustomer.org           6        True   \n",
       "2        LINDA.WILLIAMS@sakilacustomer.org           7        True   \n",
       "3         BARBARA.JONES@sakilacustomer.org           8        True   \n",
       "4       ELIZABETH.BROWN@sakilacustomer.org           9        True   \n",
       "..                                     ...         ...         ...   \n",
       "594  TERRENCE.GUNDERSON@sakilacustomer.org         601        True   \n",
       "595    ENRIQUE.FORSYTHE@sakilacustomer.org         602        True   \n",
       "596      FREDDIE.DUGGAN@sakilacustomer.org         603        True   \n",
       "597       WADE.DELVALLE@sakilacustomer.org         604        True   \n",
       "598      AUSTIN.CINTRON@sakilacustomer.org         605        True   \n",
       "\n",
       "    create_date          last_update  active  \n",
       "0    2006-02-14  2006-02-15 09:57:20       1  \n",
       "1    2006-02-14  2006-02-15 09:57:20       1  \n",
       "2    2006-02-14  2006-02-15 09:57:20       1  \n",
       "3    2006-02-14  2006-02-15 09:57:20       1  \n",
       "4    2006-02-14  2006-02-15 09:57:20       1  \n",
       "..          ...                  ...     ...  \n",
       "594  2006-02-14  2006-02-15 09:57:20       1  \n",
       "595  2006-02-14  2006-02-15 09:57:20       1  \n",
       "596  2006-02-14  2006-02-15 09:57:20       1  \n",
       "597  2006-02-14  2006-02-15 09:57:20       1  \n",
       "598  2006-02-14  2006-02-15 09:57:20       1  \n",
       "\n",
       "[599 rows x 10 columns]"
      ]
     },
     "execution_count": 3,
     "metadata": {},
     "output_type": "execute_result"
    }
   ],
   "source": [
    "customer"
   ]
  },
  {
   "cell_type": "code",
   "execution_count": 4,
   "id": "eddd3bb4",
   "metadata": {
    "cell_id": "00014-1ab4d5f0-479a-4b1d-8126-4eaeeeda2892",
    "deepnote_cell_type": "code",
    "deepnote_to_be_reexecuted": false,
    "execution_millis": 37,
    "execution_start": 1627296727666,
    "source_hash": "89fdd32f"
   },
   "outputs": [
    {
     "data": {
      "text/html": [
       "<div>\n",
       "<style scoped>\n",
       "    .dataframe tbody tr th:only-of-type {\n",
       "        vertical-align: middle;\n",
       "    }\n",
       "\n",
       "    .dataframe tbody tr th {\n",
       "        vertical-align: top;\n",
       "    }\n",
       "\n",
       "    .dataframe thead th {\n",
       "        text-align: right;\n",
       "    }\n",
       "</style>\n",
       "<table border=\"1\" class=\"dataframe\">\n",
       "  <thead>\n",
       "    <tr style=\"text-align: right;\">\n",
       "      <th></th>\n",
       "      <th>customer_id</th>\n",
       "      <th>store_id</th>\n",
       "      <th>first_name</th>\n",
       "      <th>last_name</th>\n",
       "      <th>email</th>\n",
       "      <th>address_id</th>\n",
       "      <th>activebool</th>\n",
       "      <th>create_date</th>\n",
       "      <th>last_update</th>\n",
       "      <th>active</th>\n",
       "    </tr>\n",
       "  </thead>\n",
       "  <tbody>\n",
       "    <tr>\n",
       "      <th>0</th>\n",
       "      <td>1</td>\n",
       "      <td>1</td>\n",
       "      <td>MARY</td>\n",
       "      <td>SMITH</td>\n",
       "      <td>MARY.SMITH@sakilacustomer.org</td>\n",
       "      <td>5</td>\n",
       "      <td>True</td>\n",
       "      <td>2006-02-14</td>\n",
       "      <td>2006-02-15 09:57:20</td>\n",
       "      <td>1</td>\n",
       "    </tr>\n",
       "    <tr>\n",
       "      <th>1</th>\n",
       "      <td>2</td>\n",
       "      <td>1</td>\n",
       "      <td>PATRICIA</td>\n",
       "      <td>JOHNSON</td>\n",
       "      <td>PATRICIA.JOHNSON@sakilacustomer.org</td>\n",
       "      <td>6</td>\n",
       "      <td>True</td>\n",
       "      <td>2006-02-14</td>\n",
       "      <td>2006-02-15 09:57:20</td>\n",
       "      <td>1</td>\n",
       "    </tr>\n",
       "    <tr>\n",
       "      <th>2</th>\n",
       "      <td>3</td>\n",
       "      <td>1</td>\n",
       "      <td>LINDA</td>\n",
       "      <td>WILLIAMS</td>\n",
       "      <td>LINDA.WILLIAMS@sakilacustomer.org</td>\n",
       "      <td>7</td>\n",
       "      <td>True</td>\n",
       "      <td>2006-02-14</td>\n",
       "      <td>2006-02-15 09:57:20</td>\n",
       "      <td>1</td>\n",
       "    </tr>\n",
       "    <tr>\n",
       "      <th>3</th>\n",
       "      <td>4</td>\n",
       "      <td>2</td>\n",
       "      <td>BARBARA</td>\n",
       "      <td>JONES</td>\n",
       "      <td>BARBARA.JONES@sakilacustomer.org</td>\n",
       "      <td>8</td>\n",
       "      <td>True</td>\n",
       "      <td>2006-02-14</td>\n",
       "      <td>2006-02-15 09:57:20</td>\n",
       "      <td>1</td>\n",
       "    </tr>\n",
       "    <tr>\n",
       "      <th>4</th>\n",
       "      <td>5</td>\n",
       "      <td>1</td>\n",
       "      <td>ELIZABETH</td>\n",
       "      <td>BROWN</td>\n",
       "      <td>ELIZABETH.BROWN@sakilacustomer.org</td>\n",
       "      <td>9</td>\n",
       "      <td>True</td>\n",
       "      <td>2006-02-14</td>\n",
       "      <td>2006-02-15 09:57:20</td>\n",
       "      <td>1</td>\n",
       "    </tr>\n",
       "  </tbody>\n",
       "</table>\n",
       "</div>"
      ],
      "text/plain": [
       "   customer_id  store_id first_name last_name  \\\n",
       "0            1         1       MARY     SMITH   \n",
       "1            2         1   PATRICIA   JOHNSON   \n",
       "2            3         1      LINDA  WILLIAMS   \n",
       "3            4         2    BARBARA     JONES   \n",
       "4            5         1  ELIZABETH     BROWN   \n",
       "\n",
       "                                 email  address_id  activebool create_date  \\\n",
       "0        MARY.SMITH@sakilacustomer.org           5        True  2006-02-14   \n",
       "1  PATRICIA.JOHNSON@sakilacustomer.org           6        True  2006-02-14   \n",
       "2    LINDA.WILLIAMS@sakilacustomer.org           7        True  2006-02-14   \n",
       "3     BARBARA.JONES@sakilacustomer.org           8        True  2006-02-14   \n",
       "4   ELIZABETH.BROWN@sakilacustomer.org           9        True  2006-02-14   \n",
       "\n",
       "           last_update  active  \n",
       "0  2006-02-15 09:57:20       1  \n",
       "1  2006-02-15 09:57:20       1  \n",
       "2  2006-02-15 09:57:20       1  \n",
       "3  2006-02-15 09:57:20       1  \n",
       "4  2006-02-15 09:57:20       1  "
      ]
     },
     "execution_count": 4,
     "metadata": {},
     "output_type": "execute_result"
    }
   ],
   "source": [
    "## Explore the top 5 rows of data using the .head() method\n",
    "customer.head()"
   ]
  },
  {
   "cell_type": "markdown",
   "id": "cbbe7a7f",
   "metadata": {
    "cell_id": "00015-0d4f7792-50ee-4501-a0ea-923c1903a934",
    "deepnote_cell_type": "markdown"
   },
   "source": [
    "<div class=\"alert alert-block alert-warning\">\n",
    "<b>Note</b>\n",
    "This is the same as a SQL SELECT clause<br>\n",
    "    \n",
    "> <span style=\"color:purple;font-weight:bold\">SELECT</span> * <br>\n",
    "  <span style=\"color:purple;font-weight:bold\">FROM</span> customer <br>\n",
    "  <span style=\"color:purple;font-weight:bold\">LIMIT</span> 5\n",
    "    </div>"
   ]
  },
  {
   "cell_type": "markdown",
   "id": "4eb49bdc",
   "metadata": {
    "cell_id": "00016-c4cadee7-8185-4516-a5ed-230f9e1382b2",
    "deepnote_cell_type": "markdown"
   },
   "source": [
    "We can also look at the end of a DataFrame, known as the ``tail`` [(Here is the documentation)](https://pandas.pydata.org/pandas-docs/stable/reference/api/pandas.DataFrame.tail.html?highlight=tail#pandas.DataFrame.tail)"
   ]
  },
  {
   "cell_type": "code",
   "execution_count": 5,
   "id": "aa069b4a",
   "metadata": {
    "cell_id": "00017-2d16f9c5-6df0-4bcb-8b23-8b2c90b19d09",
    "deepnote_cell_type": "code",
    "deepnote_to_be_reexecuted": false,
    "execution_millis": 14,
    "execution_start": 1627296733144,
    "source_hash": "37c5922"
   },
   "outputs": [
    {
     "data": {
      "text/html": [
       "<div>\n",
       "<style scoped>\n",
       "    .dataframe tbody tr th:only-of-type {\n",
       "        vertical-align: middle;\n",
       "    }\n",
       "\n",
       "    .dataframe tbody tr th {\n",
       "        vertical-align: top;\n",
       "    }\n",
       "\n",
       "    .dataframe thead th {\n",
       "        text-align: right;\n",
       "    }\n",
       "</style>\n",
       "<table border=\"1\" class=\"dataframe\">\n",
       "  <thead>\n",
       "    <tr style=\"text-align: right;\">\n",
       "      <th></th>\n",
       "      <th>customer_id</th>\n",
       "      <th>store_id</th>\n",
       "      <th>first_name</th>\n",
       "      <th>last_name</th>\n",
       "      <th>email</th>\n",
       "      <th>address_id</th>\n",
       "      <th>activebool</th>\n",
       "      <th>create_date</th>\n",
       "      <th>last_update</th>\n",
       "      <th>active</th>\n",
       "    </tr>\n",
       "  </thead>\n",
       "  <tbody>\n",
       "    <tr>\n",
       "      <th>589</th>\n",
       "      <td>590</td>\n",
       "      <td>2</td>\n",
       "      <td>SETH</td>\n",
       "      <td>HANNON</td>\n",
       "      <td>SETH.HANNON@sakilacustomer.org</td>\n",
       "      <td>596</td>\n",
       "      <td>True</td>\n",
       "      <td>2006-02-14</td>\n",
       "      <td>2006-02-15 09:57:20</td>\n",
       "      <td>1</td>\n",
       "    </tr>\n",
       "    <tr>\n",
       "      <th>590</th>\n",
       "      <td>591</td>\n",
       "      <td>1</td>\n",
       "      <td>KENT</td>\n",
       "      <td>ARSENAULT</td>\n",
       "      <td>KENT.ARSENAULT@sakilacustomer.org</td>\n",
       "      <td>597</td>\n",
       "      <td>True</td>\n",
       "      <td>2006-02-14</td>\n",
       "      <td>2006-02-15 09:57:20</td>\n",
       "      <td>1</td>\n",
       "    </tr>\n",
       "    <tr>\n",
       "      <th>591</th>\n",
       "      <td>592</td>\n",
       "      <td>1</td>\n",
       "      <td>TERRANCE</td>\n",
       "      <td>ROUSH</td>\n",
       "      <td>TERRANCE.ROUSH@sakilacustomer.org</td>\n",
       "      <td>598</td>\n",
       "      <td>True</td>\n",
       "      <td>2006-02-14</td>\n",
       "      <td>2006-02-15 09:57:20</td>\n",
       "      <td>0</td>\n",
       "    </tr>\n",
       "    <tr>\n",
       "      <th>592</th>\n",
       "      <td>593</td>\n",
       "      <td>2</td>\n",
       "      <td>RENE</td>\n",
       "      <td>MCALISTER</td>\n",
       "      <td>RENE.MCALISTER@sakilacustomer.org</td>\n",
       "      <td>599</td>\n",
       "      <td>True</td>\n",
       "      <td>2006-02-14</td>\n",
       "      <td>2006-02-15 09:57:20</td>\n",
       "      <td>1</td>\n",
       "    </tr>\n",
       "    <tr>\n",
       "      <th>593</th>\n",
       "      <td>594</td>\n",
       "      <td>1</td>\n",
       "      <td>EDUARDO</td>\n",
       "      <td>HIATT</td>\n",
       "      <td>EDUARDO.HIATT@sakilacustomer.org</td>\n",
       "      <td>600</td>\n",
       "      <td>True</td>\n",
       "      <td>2006-02-14</td>\n",
       "      <td>2006-02-15 09:57:20</td>\n",
       "      <td>1</td>\n",
       "    </tr>\n",
       "    <tr>\n",
       "      <th>594</th>\n",
       "      <td>595</td>\n",
       "      <td>1</td>\n",
       "      <td>TERRENCE</td>\n",
       "      <td>GUNDERSON</td>\n",
       "      <td>TERRENCE.GUNDERSON@sakilacustomer.org</td>\n",
       "      <td>601</td>\n",
       "      <td>True</td>\n",
       "      <td>2006-02-14</td>\n",
       "      <td>2006-02-15 09:57:20</td>\n",
       "      <td>1</td>\n",
       "    </tr>\n",
       "    <tr>\n",
       "      <th>595</th>\n",
       "      <td>596</td>\n",
       "      <td>1</td>\n",
       "      <td>ENRIQUE</td>\n",
       "      <td>FORSYTHE</td>\n",
       "      <td>ENRIQUE.FORSYTHE@sakilacustomer.org</td>\n",
       "      <td>602</td>\n",
       "      <td>True</td>\n",
       "      <td>2006-02-14</td>\n",
       "      <td>2006-02-15 09:57:20</td>\n",
       "      <td>1</td>\n",
       "    </tr>\n",
       "    <tr>\n",
       "      <th>596</th>\n",
       "      <td>597</td>\n",
       "      <td>1</td>\n",
       "      <td>FREDDIE</td>\n",
       "      <td>DUGGAN</td>\n",
       "      <td>FREDDIE.DUGGAN@sakilacustomer.org</td>\n",
       "      <td>603</td>\n",
       "      <td>True</td>\n",
       "      <td>2006-02-14</td>\n",
       "      <td>2006-02-15 09:57:20</td>\n",
       "      <td>1</td>\n",
       "    </tr>\n",
       "    <tr>\n",
       "      <th>597</th>\n",
       "      <td>598</td>\n",
       "      <td>1</td>\n",
       "      <td>WADE</td>\n",
       "      <td>DELVALLE</td>\n",
       "      <td>WADE.DELVALLE@sakilacustomer.org</td>\n",
       "      <td>604</td>\n",
       "      <td>True</td>\n",
       "      <td>2006-02-14</td>\n",
       "      <td>2006-02-15 09:57:20</td>\n",
       "      <td>1</td>\n",
       "    </tr>\n",
       "    <tr>\n",
       "      <th>598</th>\n",
       "      <td>599</td>\n",
       "      <td>2</td>\n",
       "      <td>AUSTIN</td>\n",
       "      <td>CINTRON</td>\n",
       "      <td>AUSTIN.CINTRON@sakilacustomer.org</td>\n",
       "      <td>605</td>\n",
       "      <td>True</td>\n",
       "      <td>2006-02-14</td>\n",
       "      <td>2006-02-15 09:57:20</td>\n",
       "      <td>1</td>\n",
       "    </tr>\n",
       "  </tbody>\n",
       "</table>\n",
       "</div>"
      ],
      "text/plain": [
       "     customer_id  store_id first_name  last_name  \\\n",
       "589          590         2       SETH     HANNON   \n",
       "590          591         1       KENT  ARSENAULT   \n",
       "591          592         1   TERRANCE      ROUSH   \n",
       "592          593         2       RENE  MCALISTER   \n",
       "593          594         1    EDUARDO      HIATT   \n",
       "594          595         1   TERRENCE  GUNDERSON   \n",
       "595          596         1    ENRIQUE   FORSYTHE   \n",
       "596          597         1    FREDDIE     DUGGAN   \n",
       "597          598         1       WADE   DELVALLE   \n",
       "598          599         2     AUSTIN    CINTRON   \n",
       "\n",
       "                                     email  address_id  activebool  \\\n",
       "589         SETH.HANNON@sakilacustomer.org         596        True   \n",
       "590      KENT.ARSENAULT@sakilacustomer.org         597        True   \n",
       "591      TERRANCE.ROUSH@sakilacustomer.org         598        True   \n",
       "592      RENE.MCALISTER@sakilacustomer.org         599        True   \n",
       "593       EDUARDO.HIATT@sakilacustomer.org         600        True   \n",
       "594  TERRENCE.GUNDERSON@sakilacustomer.org         601        True   \n",
       "595    ENRIQUE.FORSYTHE@sakilacustomer.org         602        True   \n",
       "596      FREDDIE.DUGGAN@sakilacustomer.org         603        True   \n",
       "597       WADE.DELVALLE@sakilacustomer.org         604        True   \n",
       "598      AUSTIN.CINTRON@sakilacustomer.org         605        True   \n",
       "\n",
       "    create_date          last_update  active  \n",
       "589  2006-02-14  2006-02-15 09:57:20       1  \n",
       "590  2006-02-14  2006-02-15 09:57:20       1  \n",
       "591  2006-02-14  2006-02-15 09:57:20       0  \n",
       "592  2006-02-14  2006-02-15 09:57:20       1  \n",
       "593  2006-02-14  2006-02-15 09:57:20       1  \n",
       "594  2006-02-14  2006-02-15 09:57:20       1  \n",
       "595  2006-02-14  2006-02-15 09:57:20       1  \n",
       "596  2006-02-14  2006-02-15 09:57:20       1  \n",
       "597  2006-02-14  2006-02-15 09:57:20       1  \n",
       "598  2006-02-14  2006-02-15 09:57:20       1  "
      ]
     },
     "execution_count": 5,
     "metadata": {},
     "output_type": "execute_result"
    }
   ],
   "source": [
    "customer.tail(10)"
   ]
  },
  {
   "cell_type": "code",
   "execution_count": 6,
   "id": "cf771400",
   "metadata": {
    "cell_id": "00018-2fe50bb5-d08a-4e78-8a25-4497b903f90f",
    "deepnote_cell_type": "code",
    "deepnote_to_be_reexecuted": false,
    "execution_millis": 9,
    "execution_start": 1627296735081,
    "source_hash": "620a89f4"
   },
   "outputs": [
    {
     "data": {
      "text/plain": [
       "Index(['customer_id', 'store_id', 'first_name', 'last_name', 'email',\n",
       "       'address_id', 'activebool', 'create_date', 'last_update', 'active'],\n",
       "      dtype='object')"
      ]
     },
     "execution_count": 6,
     "metadata": {},
     "output_type": "execute_result"
    }
   ],
   "source": [
    "customer.columns"
   ]
  },
  {
   "cell_type": "code",
   "execution_count": 7,
   "id": "8f5c0f3e",
   "metadata": {
    "cell_id": "00019-e37d4e76-bad0-4fb7-97b9-8f4f77aa8278",
    "deepnote_cell_type": "code",
    "deepnote_to_be_reexecuted": false,
    "execution_millis": 11,
    "execution_start": 1627296736545,
    "source_hash": "29f9ae7b"
   },
   "outputs": [
    {
     "data": {
      "text/plain": [
       "customer_id     int64\n",
       "store_id        int64\n",
       "first_name     object\n",
       "last_name      object\n",
       "email          object\n",
       "address_id      int64\n",
       "activebool       bool\n",
       "create_date    object\n",
       "last_update    object\n",
       "active          int64\n",
       "dtype: object"
      ]
     },
     "execution_count": 7,
     "metadata": {},
     "output_type": "execute_result"
    }
   ],
   "source": [
    "customer.dtypes"
   ]
  },
  {
   "cell_type": "markdown",
   "id": "7b8dfb3f",
   "metadata": {
    "cell_id": "00020-1a9d71cb-8016-4f96-9798-38d9a2a1730b",
    "deepnote_cell_type": "markdown"
   },
   "source": [
    "### Why does ``head`` have brackets after it but not ``columns``?\n",
    "\n",
    "``head`` is a *method*: a function bound to an object\n",
    "\n",
    "``columns`` is an *attribute*: a property of an object that you can access"
   ]
  },
  {
   "cell_type": "markdown",
   "id": "ae9dc122",
   "metadata": {
    "cell_id": "00021-9e86c834-2954-4248-9349-ec580373792f",
    "deepnote_cell_type": "markdown"
   },
   "source": [
    "<div class=\"alert alert-block alert-success\">\n",
    "    Think of a <b><i>car</i></b> as an object. \n",
    "    \n",
    "- It has *attributes*, such as the colour and the level of fuel.\n",
    "- It has *methods*, such as turning on the engine or adding fuel to the tank\n",
    "- You can also apply *functions* to it, such as washing the car or painting it\n",
    "</div>"
   ]
  },
  {
   "cell_type": "markdown",
   "id": "0b04cc80",
   "metadata": {
    "cell_id": "00022-245180e6-385f-4fef-b9d7-3048665d4d68",
    "deepnote_cell_type": "markdown"
   },
   "source": [
    "<div class=\"alert alert-block alert-info\">\n",
    "<b>Task:</b> <ul>\n",
    "    <li> Import the payment table, fount at <i>data/payment.csv</i> \n",
    "    <li> Use the <i>.head()</i> method to explore it\n",
    "    <li> Explore the data types using the <i>.dtypes</i> attribute\n",
    "</ul></div>"
   ]
  },
  {
   "cell_type": "code",
   "execution_count": 8,
   "id": "35b7a6c1",
   "metadata": {
    "cell_id": "00023-c37c1aba-5d05-4310-b8a2-7e2ed2081254",
    "deepnote_cell_type": "code",
    "deepnote_to_be_reexecuted": false,
    "execution_millis": 2,
    "execution_start": 1626114755887,
    "source_hash": "686d435c"
   },
   "outputs": [],
   "source": [
    "# ** Task 1 ** #\n",
    "# Use the space below to read in the data from ./data/payment.csv into the variable label payment\n",
    "# and use the .head() method to explore it.\n",
    "\n",
    "# --------------------------------------------------- #\n",
    "\n",
    "\n",
    "\n",
    "# --------------------------------------------------- #"
   ]
  },
  {
   "cell_type": "markdown",
   "id": "f8ebf13e",
   "metadata": {
    "cell_id": "00024-1c8a0fb3-9f90-4166-a63f-2aa7d1cd3129",
    "deepnote_cell_type": "markdown"
   },
   "source": [
    "<details>\n",
    "    <summary style=\"color:green;font-weight:bold\">Click here for the answer to task 1</summary>\n",
    "    \n",
    "> <span style=\"color:blue\">\\# *Read the inequality data* </span><br>\n",
    "    payment = pd.read_csv(<span style=\"color:red\">'./data/payment.csv'</span>)<br><br>\n",
    "    payment.head()\n",
    "</details>"
   ]
  },
  {
   "cell_type": "code",
   "execution_count": 9,
   "id": "74f7ffec",
   "metadata": {
    "cell_id": "00025-f69609b3-5ac4-4154-8df3-181981fef45a",
    "deepnote_cell_type": "code",
    "deepnote_to_be_reexecuted": false,
    "execution_millis": 4,
    "execution_start": 1626114755894,
    "source_hash": "c4a25a9"
   },
   "outputs": [],
   "source": [
    "# ** Task 2 ** #\n",
    "# Use the space below explore the data types of the payment table using the .dtypes attribute\n",
    "\n",
    "# --------------------------------------------------- #\n",
    "\n",
    "\n",
    "\n",
    "# --------------------------------------------------- #"
   ]
  },
  {
   "cell_type": "markdown",
   "id": "0fb866e6",
   "metadata": {
    "cell_id": "00026-9aab0c66-c73b-456e-9eda-394bd695fedd",
    "deepnote_cell_type": "markdown"
   },
   "source": [
    "<details>\n",
    "    <summary style=\"color:green;font-weight:bold\">Click here for the answer to task 2</summary>\n",
    "    \n",
    "> <span style=\"color:blue\">\\# *Find out the data types* </span><br>\n",
    "    payment.dtypes\n",
    "</details>"
   ]
  },
  {
   "cell_type": "markdown",
   "id": "ecf98f8a",
   "metadata": {
    "cell_id": "00027-84028e9d-93c7-4b72-b765-7d091f6d535e",
    "deepnote_cell_type": "markdown"
   },
   "source": [
    "We can get some basic descriptive statistics using the ``describe`` method\n",
    "\n",
    "[Here is the .decribe documentation](https://pandas.pydata.org/pandas-docs/stable/reference/api/pandas.DataFrame.describe.html?highlight=describe#pandas.DataFrame.describe)"
   ]
  },
  {
   "cell_type": "code",
   "execution_count": 10,
   "id": "91424b68",
   "metadata": {
    "cell_id": "00028-6c99a348-5c8f-44dd-8b02-318f4c470322",
    "deepnote_cell_type": "code",
    "deepnote_to_be_reexecuted": false,
    "execution_millis": 50,
    "execution_start": 1627296746965,
    "source_hash": "3578b670"
   },
   "outputs": [
    {
     "data": {
      "text/html": [
       "<div>\n",
       "<style scoped>\n",
       "    .dataframe tbody tr th:only-of-type {\n",
       "        vertical-align: middle;\n",
       "    }\n",
       "\n",
       "    .dataframe tbody tr th {\n",
       "        vertical-align: top;\n",
       "    }\n",
       "\n",
       "    .dataframe thead th {\n",
       "        text-align: right;\n",
       "    }\n",
       "</style>\n",
       "<table border=\"1\" class=\"dataframe\">\n",
       "  <thead>\n",
       "    <tr style=\"text-align: right;\">\n",
       "      <th></th>\n",
       "      <th>customer_id</th>\n",
       "      <th>store_id</th>\n",
       "      <th>address_id</th>\n",
       "      <th>active</th>\n",
       "    </tr>\n",
       "  </thead>\n",
       "  <tbody>\n",
       "    <tr>\n",
       "      <th>count</th>\n",
       "      <td>599.000000</td>\n",
       "      <td>599.000000</td>\n",
       "      <td>599.000000</td>\n",
       "      <td>599.000000</td>\n",
       "    </tr>\n",
       "    <tr>\n",
       "      <th>mean</th>\n",
       "      <td>300.000000</td>\n",
       "      <td>1.455760</td>\n",
       "      <td>304.724541</td>\n",
       "      <td>0.974958</td>\n",
       "    </tr>\n",
       "    <tr>\n",
       "      <th>std</th>\n",
       "      <td>173.060683</td>\n",
       "      <td>0.498455</td>\n",
       "      <td>173.698609</td>\n",
       "      <td>0.156382</td>\n",
       "    </tr>\n",
       "    <tr>\n",
       "      <th>min</th>\n",
       "      <td>1.000000</td>\n",
       "      <td>1.000000</td>\n",
       "      <td>5.000000</td>\n",
       "      <td>0.000000</td>\n",
       "    </tr>\n",
       "    <tr>\n",
       "      <th>25%</th>\n",
       "      <td>150.500000</td>\n",
       "      <td>1.000000</td>\n",
       "      <td>154.500000</td>\n",
       "      <td>1.000000</td>\n",
       "    </tr>\n",
       "    <tr>\n",
       "      <th>50%</th>\n",
       "      <td>300.000000</td>\n",
       "      <td>1.000000</td>\n",
       "      <td>305.000000</td>\n",
       "      <td>1.000000</td>\n",
       "    </tr>\n",
       "    <tr>\n",
       "      <th>75%</th>\n",
       "      <td>449.500000</td>\n",
       "      <td>2.000000</td>\n",
       "      <td>454.500000</td>\n",
       "      <td>1.000000</td>\n",
       "    </tr>\n",
       "    <tr>\n",
       "      <th>max</th>\n",
       "      <td>599.000000</td>\n",
       "      <td>2.000000</td>\n",
       "      <td>605.000000</td>\n",
       "      <td>1.000000</td>\n",
       "    </tr>\n",
       "  </tbody>\n",
       "</table>\n",
       "</div>"
      ],
      "text/plain": [
       "       customer_id    store_id  address_id      active\n",
       "count   599.000000  599.000000  599.000000  599.000000\n",
       "mean    300.000000    1.455760  304.724541    0.974958\n",
       "std     173.060683    0.498455  173.698609    0.156382\n",
       "min       1.000000    1.000000    5.000000    0.000000\n",
       "25%     150.500000    1.000000  154.500000    1.000000\n",
       "50%     300.000000    1.000000  305.000000    1.000000\n",
       "75%     449.500000    2.000000  454.500000    1.000000\n",
       "max     599.000000    2.000000  605.000000    1.000000"
      ]
     },
     "execution_count": 10,
     "metadata": {},
     "output_type": "execute_result"
    }
   ],
   "source": [
    "customer.describe()"
   ]
  },
  {
   "cell_type": "markdown",
   "id": "b7239ef6",
   "metadata": {
    "cell_id": "00029-6715a67f-e282-49a4-ae88-03212469540e",
    "deepnote_cell_type": "markdown"
   },
   "source": [
    "<div class=\"alert alert-block alert-warning\">\n",
    "<b>Question:</b> Why are only these columns described?\n",
    "</div>\n"
   ]
  },
  {
   "cell_type": "markdown",
   "id": "3e709b5f",
   "metadata": {
    "cell_id": "00030-9168e694-03e6-4d22-938a-5340fe7eb048",
    "deepnote_cell_type": "markdown"
   },
   "source": [
    "---\n",
    "<a id=\"select\"></a>\n",
    "# Selecting Columns\n",
    "[Back to Contents](#Contents)\n",
    "\n",
    "If we only want some parts of a DataFrame, we need to be able to specify the columns we are interested in. \n",
    "To do so, we need to be able to choose (a) specific column(s) from our DataFrame. \n",
    "\n",
    "Note: A column returned on its own is returned as a *Series*\n",
    "\n",
    "The syntax for choosing a Column from the DataFrame and returning it as a *Series* is:\n",
    "> DataFrame\\[<span style='color:blue'>'Column'</span>\\]\n",
    "\n",
    "The syntax for choosing more than one column from the DataFrame, returning a *DataFrame* is:\n",
    "> DataFrame\\[\\[<span style='color:blue'>'Column 1'</span>, <span style='color:blue'>'Column 2'</span>\\]\\]\n",
    "\n",
    "The syntax for choosing a Column from the DataFrame and returning a *DataFrame* is:\n",
    "> DataFrame\\[\\[<span style='color:blue'>'Column'</span>\\]\\]\n",
    "\n",
    "In these examples, *DataFrame* is the name of the DataFrame and *Column* is the name of the Column."
   ]
  },
  {
   "cell_type": "code",
   "execution_count": 11,
   "id": "b3b91de0",
   "metadata": {
    "cell_id": "00031-94f40b21-c458-46ce-8801-72addeccd60d",
    "deepnote_cell_type": "code",
    "deepnote_to_be_reexecuted": false,
    "execution_millis": 6,
    "execution_start": 1626115122165,
    "source_hash": "1e5204cf"
   },
   "outputs": [
    {
     "data": {
      "text/plain": [
       "0           MARY\n",
       "1       PATRICIA\n",
       "2          LINDA\n",
       "3        BARBARA\n",
       "4      ELIZABETH\n",
       "         ...    \n",
       "594     TERRENCE\n",
       "595      ENRIQUE\n",
       "596      FREDDIE\n",
       "597         WADE\n",
       "598       AUSTIN\n",
       "Name: first_name, Length: 599, dtype: object"
      ]
     },
     "execution_count": 11,
     "metadata": {},
     "output_type": "execute_result"
    }
   ],
   "source": [
    "customer['first_name']"
   ]
  },
  {
   "cell_type": "code",
   "execution_count": 12,
   "id": "58df5d8b",
   "metadata": {
    "cell_id": "00032-d35f57c1-eceb-4e6d-937d-da8900cddd57",
    "deepnote_cell_type": "code",
    "deepnote_to_be_reexecuted": false,
    "execution_millis": 42,
    "execution_start": 1626115124598,
    "source_hash": "d93891fd"
   },
   "outputs": [
    {
     "data": {
      "text/html": [
       "<div>\n",
       "<style scoped>\n",
       "    .dataframe tbody tr th:only-of-type {\n",
       "        vertical-align: middle;\n",
       "    }\n",
       "\n",
       "    .dataframe tbody tr th {\n",
       "        vertical-align: top;\n",
       "    }\n",
       "\n",
       "    .dataframe thead th {\n",
       "        text-align: right;\n",
       "    }\n",
       "</style>\n",
       "<table border=\"1\" class=\"dataframe\">\n",
       "  <thead>\n",
       "    <tr style=\"text-align: right;\">\n",
       "      <th></th>\n",
       "      <th>first_name</th>\n",
       "      <th>last_name</th>\n",
       "    </tr>\n",
       "  </thead>\n",
       "  <tbody>\n",
       "    <tr>\n",
       "      <th>0</th>\n",
       "      <td>MARY</td>\n",
       "      <td>SMITH</td>\n",
       "    </tr>\n",
       "    <tr>\n",
       "      <th>1</th>\n",
       "      <td>PATRICIA</td>\n",
       "      <td>JOHNSON</td>\n",
       "    </tr>\n",
       "    <tr>\n",
       "      <th>2</th>\n",
       "      <td>LINDA</td>\n",
       "      <td>WILLIAMS</td>\n",
       "    </tr>\n",
       "    <tr>\n",
       "      <th>3</th>\n",
       "      <td>BARBARA</td>\n",
       "      <td>JONES</td>\n",
       "    </tr>\n",
       "    <tr>\n",
       "      <th>4</th>\n",
       "      <td>ELIZABETH</td>\n",
       "      <td>BROWN</td>\n",
       "    </tr>\n",
       "    <tr>\n",
       "      <th>...</th>\n",
       "      <td>...</td>\n",
       "      <td>...</td>\n",
       "    </tr>\n",
       "    <tr>\n",
       "      <th>594</th>\n",
       "      <td>TERRENCE</td>\n",
       "      <td>GUNDERSON</td>\n",
       "    </tr>\n",
       "    <tr>\n",
       "      <th>595</th>\n",
       "      <td>ENRIQUE</td>\n",
       "      <td>FORSYTHE</td>\n",
       "    </tr>\n",
       "    <tr>\n",
       "      <th>596</th>\n",
       "      <td>FREDDIE</td>\n",
       "      <td>DUGGAN</td>\n",
       "    </tr>\n",
       "    <tr>\n",
       "      <th>597</th>\n",
       "      <td>WADE</td>\n",
       "      <td>DELVALLE</td>\n",
       "    </tr>\n",
       "    <tr>\n",
       "      <th>598</th>\n",
       "      <td>AUSTIN</td>\n",
       "      <td>CINTRON</td>\n",
       "    </tr>\n",
       "  </tbody>\n",
       "</table>\n",
       "<p>599 rows × 2 columns</p>\n",
       "</div>"
      ],
      "text/plain": [
       "    first_name  last_name\n",
       "0         MARY      SMITH\n",
       "1     PATRICIA    JOHNSON\n",
       "2        LINDA   WILLIAMS\n",
       "3      BARBARA      JONES\n",
       "4    ELIZABETH      BROWN\n",
       "..         ...        ...\n",
       "594   TERRENCE  GUNDERSON\n",
       "595    ENRIQUE   FORSYTHE\n",
       "596    FREDDIE     DUGGAN\n",
       "597       WADE   DELVALLE\n",
       "598     AUSTIN    CINTRON\n",
       "\n",
       "[599 rows x 2 columns]"
      ]
     },
     "execution_count": 12,
     "metadata": {},
     "output_type": "execute_result"
    }
   ],
   "source": [
    "customer[['first_name', 'last_name']]"
   ]
  },
  {
   "cell_type": "markdown",
   "id": "fd79979c",
   "metadata": {
    "cell_id": "00033-ee2b5429-6929-4366-a9f9-8f43fa1d9a93",
    "deepnote_cell_type": "markdown"
   },
   "source": [
    "<div class=\"alert alert-block alert-warning\">\n",
    "<b>Note</b>\n",
    "This is the same as a SQL SELECT clause<br>\n",
    "    \n",
    "> <span style=\"color:purple;font-weight:bold\">SELECT</span> first_name, last_name<br>\n",
    "<span style=\"color:purple;font-weight:bold\">FROM</span> customer\n",
    "    </div>"
   ]
  },
  {
   "cell_type": "code",
   "execution_count": 13,
   "id": "f83aaed3",
   "metadata": {
    "cell_id": "00034-557af11a-d3fe-45fe-8b6d-833394710b6b",
    "deepnote_cell_type": "code",
    "deepnote_to_be_reexecuted": false,
    "execution_millis": 30,
    "execution_start": 1627296755589,
    "source_hash": "5d43334"
   },
   "outputs": [
    {
     "data": {
      "text/html": [
       "<div>\n",
       "<style scoped>\n",
       "    .dataframe tbody tr th:only-of-type {\n",
       "        vertical-align: middle;\n",
       "    }\n",
       "\n",
       "    .dataframe tbody tr th {\n",
       "        vertical-align: top;\n",
       "    }\n",
       "\n",
       "    .dataframe thead th {\n",
       "        text-align: right;\n",
       "    }\n",
       "</style>\n",
       "<table border=\"1\" class=\"dataframe\">\n",
       "  <thead>\n",
       "    <tr style=\"text-align: right;\">\n",
       "      <th></th>\n",
       "      <th>first_name</th>\n",
       "      <th>last_name</th>\n",
       "    </tr>\n",
       "  </thead>\n",
       "  <tbody>\n",
       "    <tr>\n",
       "      <th>count</th>\n",
       "      <td>599</td>\n",
       "      <td>599</td>\n",
       "    </tr>\n",
       "    <tr>\n",
       "      <th>unique</th>\n",
       "      <td>591</td>\n",
       "      <td>599</td>\n",
       "    </tr>\n",
       "    <tr>\n",
       "      <th>top</th>\n",
       "      <td>WILLIE</td>\n",
       "      <td>RUNYON</td>\n",
       "    </tr>\n",
       "    <tr>\n",
       "      <th>freq</th>\n",
       "      <td>2</td>\n",
       "      <td>1</td>\n",
       "    </tr>\n",
       "  </tbody>\n",
       "</table>\n",
       "</div>"
      ],
      "text/plain": [
       "       first_name last_name\n",
       "count         599       599\n",
       "unique        591       599\n",
       "top        WILLIE    RUNYON\n",
       "freq            2         1"
      ]
     },
     "execution_count": 13,
     "metadata": {},
     "output_type": "execute_result"
    }
   ],
   "source": [
    "customer[['first_name', 'last_name']].describe()"
   ]
  },
  {
   "cell_type": "code",
   "execution_count": 14,
   "id": "2ba24d76",
   "metadata": {
    "cell_id": "00035-a071a9d8-02dc-4035-9030-009d791a38ad",
    "deepnote_cell_type": "code",
    "deepnote_to_be_reexecuted": false,
    "execution_millis": 9,
    "execution_start": 1627296765610,
    "source_hash": "45afda93"
   },
   "outputs": [
    {
     "data": {
      "text/plain": [
       "array([1, 2], dtype=int64)"
      ]
     },
     "execution_count": 14,
     "metadata": {},
     "output_type": "execute_result"
    }
   ],
   "source": [
    "customer['store_id'].unique()"
   ]
  },
  {
   "cell_type": "markdown",
   "id": "3a10ab02",
   "metadata": {
    "cell_id": "00036-11f4c509-d749-4d48-90cd-f34503c57938",
    "deepnote_cell_type": "markdown"
   },
   "source": [
    "<div class=\"alert alert-block alert-warning\">\n",
    "<b>Note</b>\n",
    "This is the same as a SQL DISTINCT function<br>\n",
    "    \n",
    "> <span style=\"color:purple;font-weight:bold\">SELECT  DISTINCT</span>(store_id)<br>\n",
    "<span style=\"color:purple;font-weight:bold\">FROM</span> customer\n",
    "    </div>"
   ]
  },
  {
   "cell_type": "markdown",
   "id": "8f5b674f",
   "metadata": {
    "cell_id": "00037-d5f573f5-d74e-491f-8c36-6b183b462a07",
    "deepnote_cell_type": "markdown"
   },
   "source": [
    "## Plotting\n",
    "\n",
    "Pandas allows us to plot data from the DataFrame. Pandas will plot for you most of the [standard plots you would want](https://pandas.pydata.org/pandas-docs/stable/user_guide/visualization.html#visualization)\n",
    "\n",
    "Lets find out how frequent different amounts are paid."
   ]
  },
  {
   "cell_type": "code",
   "execution_count": 16,
   "id": "67251afe",
   "metadata": {
    "cell_id": "00038-12855e8a-e91d-434a-a228-6bdde82214db",
    "deepnote_cell_type": "code",
    "deepnote_to_be_reexecuted": false,
    "execution_millis": 178,
    "execution_start": 1627296761336,
    "source_hash": "cc4322b2"
   },
   "outputs": [],
   "source": [
    "payment.hist(column='amount');"
   ]
  },
  {
   "cell_type": "markdown",
   "id": "e28959e1",
   "metadata": {
    "cell_id": "00039-9afa1518-dd4b-48a4-9cc6-d3bd7c77eb5f",
    "deepnote_cell_type": "markdown"
   },
   "source": [
    "#### Keyword parameters\n",
    "We can tidy up this plot by [using some more parameters](https://pandas.pydata.org/pandas-docs/stable/reference/api/pandas.DataFrame.hist.html?highlight=hist#pandas.DataFrame.hist). These parameters are given with a *keyword*, like a preset label, that is assigned a value. \n",
    "\n",
    "> ``(keyword=value, next_keyword=next_value)``\n",
    "\n",
    "Previously, all the functions you have seen in Python and SQL have had ***positional*** arguments, such as ``head``, ``CAST`` or ``ROUND``. Positional arguments need to be given in a specific order. As they are labelled, keyword arguments can be put in any order. "
   ]
  },
  {
   "cell_type": "markdown",
   "id": "d99e47ae",
   "metadata": {
    "cell_id": "00040-d3e4429e-8df0-4258-95d4-d4c280c559e2",
    "deepnote_cell_type": "markdown"
   },
   "source": [
    "We can see that the maximum amount spent is £12, so lets use 12 bins for the histogram rather than the default of 10."
   ]
  },
  {
   "cell_type": "code",
   "execution_count": 17,
   "id": "b5844878",
   "metadata": {
    "cell_id": "00041-1771546c-0918-49e0-ab04-0927abfc7ff6",
    "deepnote_cell_type": "code",
    "deepnote_to_be_reexecuted": true,
    "source_hash": "6c1a8023"
   },
   "outputs": [],
   "source": [
    "payment.hist(column='amount', grid=False, bins=12);"
   ]
  },
  {
   "cell_type": "markdown",
   "id": "abe0439f",
   "metadata": {
    "cell_id": "00042-bb61cae4-4ae4-443e-bdf6-848d5368456a",
    "deepnote_cell_type": "markdown"
   },
   "source": [
    "---\n",
    "### Sort Values\n",
    "\n",
    "Next, we will sort the customers by their first name.\n",
    "\n",
    "The syntax for sorting the data is:\n",
    "> <span style=\"color:blue\">\\# *Sort the data from lowest to highest*</span><br>\n",
    "DataFrame.sort_values(by = <span style='color:red'>'Column'</span>)\n",
    "\n",
    "In this example *DataFrame* is the name of the DataFrame, *Column* is the name of the Column we want to sort by.\n",
    "\n",
    "[The sort_values documentation](https://pandas.pydata.org/pandas-docs/stable/reference/api/pandas.DataFrame.sort_values.html)"
   ]
  },
  {
   "cell_type": "code",
   "execution_count": 18,
   "id": "8b64d05c",
   "metadata": {
    "cell_id": "00043-280563ee-6bee-422f-8c35-c3bb057a9034",
    "deepnote_cell_type": "code",
    "deepnote_to_be_reexecuted": true,
    "source_hash": "ba2e88fc"
   },
   "outputs": [
    {
     "data": {
      "text/html": [
       "<div>\n",
       "<style scoped>\n",
       "    .dataframe tbody tr th:only-of-type {\n",
       "        vertical-align: middle;\n",
       "    }\n",
       "\n",
       "    .dataframe tbody tr th {\n",
       "        vertical-align: top;\n",
       "    }\n",
       "\n",
       "    .dataframe thead th {\n",
       "        text-align: right;\n",
       "    }\n",
       "</style>\n",
       "<table border=\"1\" class=\"dataframe\">\n",
       "  <thead>\n",
       "    <tr style=\"text-align: right;\">\n",
       "      <th></th>\n",
       "      <th>customer_id</th>\n",
       "      <th>store_id</th>\n",
       "      <th>first_name</th>\n",
       "      <th>last_name</th>\n",
       "      <th>email</th>\n",
       "      <th>address_id</th>\n",
       "      <th>activebool</th>\n",
       "      <th>create_date</th>\n",
       "      <th>last_update</th>\n",
       "      <th>active</th>\n",
       "    </tr>\n",
       "  </thead>\n",
       "  <tbody>\n",
       "    <tr>\n",
       "      <th>374</th>\n",
       "      <td>375</td>\n",
       "      <td>2</td>\n",
       "      <td>AARON</td>\n",
       "      <td>SELBY</td>\n",
       "      <td>AARON.SELBY@sakilacustomer.org</td>\n",
       "      <td>380</td>\n",
       "      <td>True</td>\n",
       "      <td>2006-02-14</td>\n",
       "      <td>2006-02-15 09:57:20</td>\n",
       "      <td>1</td>\n",
       "    </tr>\n",
       "    <tr>\n",
       "      <th>366</th>\n",
       "      <td>367</td>\n",
       "      <td>1</td>\n",
       "      <td>ADAM</td>\n",
       "      <td>GOOCH</td>\n",
       "      <td>ADAM.GOOCH@sakilacustomer.org</td>\n",
       "      <td>372</td>\n",
       "      <td>True</td>\n",
       "      <td>2006-02-14</td>\n",
       "      <td>2006-02-15 09:57:20</td>\n",
       "      <td>1</td>\n",
       "    </tr>\n",
       "    <tr>\n",
       "      <th>524</th>\n",
       "      <td>525</td>\n",
       "      <td>2</td>\n",
       "      <td>ADRIAN</td>\n",
       "      <td>CLARY</td>\n",
       "      <td>ADRIAN.CLARY@sakilacustomer.org</td>\n",
       "      <td>531</td>\n",
       "      <td>True</td>\n",
       "      <td>2006-02-14</td>\n",
       "      <td>2006-02-15 09:57:20</td>\n",
       "      <td>1</td>\n",
       "    </tr>\n",
       "    <tr>\n",
       "      <th>216</th>\n",
       "      <td>217</td>\n",
       "      <td>2</td>\n",
       "      <td>AGNES</td>\n",
       "      <td>BISHOP</td>\n",
       "      <td>AGNES.BISHOP@sakilacustomer.org</td>\n",
       "      <td>221</td>\n",
       "      <td>True</td>\n",
       "      <td>2006-02-14</td>\n",
       "      <td>2006-02-15 09:57:20</td>\n",
       "      <td>1</td>\n",
       "    </tr>\n",
       "    <tr>\n",
       "      <th>388</th>\n",
       "      <td>389</td>\n",
       "      <td>1</td>\n",
       "      <td>ALAN</td>\n",
       "      <td>KAHN</td>\n",
       "      <td>ALAN.KAHN@sakilacustomer.org</td>\n",
       "      <td>394</td>\n",
       "      <td>True</td>\n",
       "      <td>2006-02-14</td>\n",
       "      <td>2006-02-15 09:57:20</td>\n",
       "      <td>1</td>\n",
       "    </tr>\n",
       "  </tbody>\n",
       "</table>\n",
       "</div>"
      ],
      "text/plain": [
       "     customer_id  store_id first_name last_name  \\\n",
       "374          375         2      AARON     SELBY   \n",
       "366          367         1       ADAM     GOOCH   \n",
       "524          525         2     ADRIAN     CLARY   \n",
       "216          217         2      AGNES    BISHOP   \n",
       "388          389         1       ALAN      KAHN   \n",
       "\n",
       "                               email  address_id  activebool create_date  \\\n",
       "374   AARON.SELBY@sakilacustomer.org         380        True  2006-02-14   \n",
       "366    ADAM.GOOCH@sakilacustomer.org         372        True  2006-02-14   \n",
       "524  ADRIAN.CLARY@sakilacustomer.org         531        True  2006-02-14   \n",
       "216  AGNES.BISHOP@sakilacustomer.org         221        True  2006-02-14   \n",
       "388     ALAN.KAHN@sakilacustomer.org         394        True  2006-02-14   \n",
       "\n",
       "             last_update  active  \n",
       "374  2006-02-15 09:57:20       1  \n",
       "366  2006-02-15 09:57:20       1  \n",
       "524  2006-02-15 09:57:20       1  \n",
       "216  2006-02-15 09:57:20       1  \n",
       "388  2006-02-15 09:57:20       1  "
      ]
     },
     "execution_count": 18,
     "metadata": {},
     "output_type": "execute_result"
    }
   ],
   "source": [
    "customer.sort_values(by='first_name').head()"
   ]
  },
  {
   "cell_type": "markdown",
   "id": "f4ccc103",
   "metadata": {
    "cell_id": "00044-88d56854-5e61-4f4a-9522-615206b05d1f",
    "deepnote_cell_type": "markdown"
   },
   "source": [
    "<div class=\"alert alert-block alert-warning\">\n",
    "<b>Note</b>\n",
    "This is the same as a SQL ORDER BY clause<br>\n",
    "    \n",
    "> <span style=\"color:purple;font-weight:bold\">SELECT</span> * <br>\n",
    "  <span style=\"color:purple;font-weight:bold\">FROM</span> customer <br>\n",
    "  <span style=\"color:purple;font-weight:bold\">ORDER BY</span> first_name\n",
    "</div>"
   ]
  },
  {
   "cell_type": "markdown",
   "id": "26370ed6",
   "metadata": {
    "cell_id": "00045-8e552bf9-a9d1-46ea-af2d-52cff9aea4d7",
    "deepnote_cell_type": "markdown"
   },
   "source": [
    "We can sort by multiple columns:"
   ]
  },
  {
   "cell_type": "code",
   "execution_count": 19,
   "id": "c048b746",
   "metadata": {
    "cell_id": "00046-3e07aef4-734e-47d1-9894-caa5dc46d339",
    "deepnote_cell_type": "code",
    "deepnote_to_be_reexecuted": true,
    "source_hash": "f2bd6b7"
   },
   "outputs": [
    {
     "data": {
      "text/html": [
       "<div>\n",
       "<style scoped>\n",
       "    .dataframe tbody tr th:only-of-type {\n",
       "        vertical-align: middle;\n",
       "    }\n",
       "\n",
       "    .dataframe tbody tr th {\n",
       "        vertical-align: top;\n",
       "    }\n",
       "\n",
       "    .dataframe thead th {\n",
       "        text-align: right;\n",
       "    }\n",
       "</style>\n",
       "<table border=\"1\" class=\"dataframe\">\n",
       "  <thead>\n",
       "    <tr style=\"text-align: right;\">\n",
       "      <th></th>\n",
       "      <th>customer_id</th>\n",
       "      <th>store_id</th>\n",
       "      <th>first_name</th>\n",
       "      <th>last_name</th>\n",
       "      <th>email</th>\n",
       "      <th>address_id</th>\n",
       "      <th>activebool</th>\n",
       "      <th>create_date</th>\n",
       "      <th>last_update</th>\n",
       "      <th>active</th>\n",
       "    </tr>\n",
       "  </thead>\n",
       "  <tbody>\n",
       "    <tr>\n",
       "      <th>598</th>\n",
       "      <td>599</td>\n",
       "      <td>2</td>\n",
       "      <td>AUSTIN</td>\n",
       "      <td>CINTRON</td>\n",
       "      <td>AUSTIN.CINTRON@sakilacustomer.org</td>\n",
       "      <td>605</td>\n",
       "      <td>True</td>\n",
       "      <td>2006-02-14</td>\n",
       "      <td>2006-02-15 09:57:20</td>\n",
       "      <td>1</td>\n",
       "    </tr>\n",
       "    <tr>\n",
       "      <th>592</th>\n",
       "      <td>593</td>\n",
       "      <td>2</td>\n",
       "      <td>RENE</td>\n",
       "      <td>MCALISTER</td>\n",
       "      <td>RENE.MCALISTER@sakilacustomer.org</td>\n",
       "      <td>599</td>\n",
       "      <td>True</td>\n",
       "      <td>2006-02-14</td>\n",
       "      <td>2006-02-15 09:57:20</td>\n",
       "      <td>1</td>\n",
       "    </tr>\n",
       "    <tr>\n",
       "      <th>589</th>\n",
       "      <td>590</td>\n",
       "      <td>2</td>\n",
       "      <td>SETH</td>\n",
       "      <td>HANNON</td>\n",
       "      <td>SETH.HANNON@sakilacustomer.org</td>\n",
       "      <td>596</td>\n",
       "      <td>True</td>\n",
       "      <td>2006-02-14</td>\n",
       "      <td>2006-02-15 09:57:20</td>\n",
       "      <td>1</td>\n",
       "    </tr>\n",
       "    <tr>\n",
       "      <th>583</th>\n",
       "      <td>584</td>\n",
       "      <td>2</td>\n",
       "      <td>SALVADOR</td>\n",
       "      <td>TEEL</td>\n",
       "      <td>SALVADOR.TEEL@sakilacustomer.org</td>\n",
       "      <td>590</td>\n",
       "      <td>True</td>\n",
       "      <td>2006-02-14</td>\n",
       "      <td>2006-02-15 09:57:20</td>\n",
       "      <td>1</td>\n",
       "    </tr>\n",
       "    <tr>\n",
       "      <th>581</th>\n",
       "      <td>582</td>\n",
       "      <td>2</td>\n",
       "      <td>ANDY</td>\n",
       "      <td>VANHORN</td>\n",
       "      <td>ANDY.VANHORN@sakilacustomer.org</td>\n",
       "      <td>588</td>\n",
       "      <td>True</td>\n",
       "      <td>2006-02-14</td>\n",
       "      <td>2006-02-15 09:57:20</td>\n",
       "      <td>1</td>\n",
       "    </tr>\n",
       "  </tbody>\n",
       "</table>\n",
       "</div>"
      ],
      "text/plain": [
       "     customer_id  store_id first_name  last_name  \\\n",
       "598          599         2     AUSTIN    CINTRON   \n",
       "592          593         2       RENE  MCALISTER   \n",
       "589          590         2       SETH     HANNON   \n",
       "583          584         2   SALVADOR       TEEL   \n",
       "581          582         2       ANDY    VANHORN   \n",
       "\n",
       "                                 email  address_id  activebool create_date  \\\n",
       "598  AUSTIN.CINTRON@sakilacustomer.org         605        True  2006-02-14   \n",
       "592  RENE.MCALISTER@sakilacustomer.org         599        True  2006-02-14   \n",
       "589     SETH.HANNON@sakilacustomer.org         596        True  2006-02-14   \n",
       "583   SALVADOR.TEEL@sakilacustomer.org         590        True  2006-02-14   \n",
       "581    ANDY.VANHORN@sakilacustomer.org         588        True  2006-02-14   \n",
       "\n",
       "             last_update  active  \n",
       "598  2006-02-15 09:57:20       1  \n",
       "592  2006-02-15 09:57:20       1  \n",
       "589  2006-02-15 09:57:20       1  \n",
       "583  2006-02-15 09:57:20       1  \n",
       "581  2006-02-15 09:57:20       1  "
      ]
     },
     "execution_count": 19,
     "metadata": {},
     "output_type": "execute_result"
    }
   ],
   "source": [
    "customer.sort_values(by=['store_id', 'address_id'], ascending=False).head()"
   ]
  },
  {
   "cell_type": "markdown",
   "id": "c00ed997",
   "metadata": {
    "cell_id": "00047-44c50928-3ed8-41be-b003-e08244744a48",
    "deepnote_cell_type": "markdown"
   },
   "source": [
    "Notice that this sorts the values *temporarily*. To fix it, use the *inplace flag*.\n",
    "\n",
    "The syntax for sorting the data in place is:\n",
    "> <span style=\"color:blue\">\\# *Sort the data in place from the beginning to end of the alphabet* </span><br>\n",
    "DataFrame.sort_values(by = <span style='color:red'>'Column'</span>, inplace = <span style='color:green; font-weight:bold'>True</span>)"
   ]
  },
  {
   "cell_type": "code",
   "execution_count": 20,
   "id": "cbed8e96",
   "metadata": {
    "cell_id": "00048-fcafc9e9-ce42-4421-ab24-0ae108ebbea9",
    "deepnote_cell_type": "code",
    "deepnote_to_be_reexecuted": true,
    "source_hash": "289d354e"
   },
   "outputs": [
    {
     "data": {
      "text/html": [
       "<div>\n",
       "<style scoped>\n",
       "    .dataframe tbody tr th:only-of-type {\n",
       "        vertical-align: middle;\n",
       "    }\n",
       "\n",
       "    .dataframe tbody tr th {\n",
       "        vertical-align: top;\n",
       "    }\n",
       "\n",
       "    .dataframe thead th {\n",
       "        text-align: right;\n",
       "    }\n",
       "</style>\n",
       "<table border=\"1\" class=\"dataframe\">\n",
       "  <thead>\n",
       "    <tr style=\"text-align: right;\">\n",
       "      <th></th>\n",
       "      <th>customer_id</th>\n",
       "      <th>store_id</th>\n",
       "      <th>first_name</th>\n",
       "      <th>last_name</th>\n",
       "      <th>email</th>\n",
       "      <th>address_id</th>\n",
       "      <th>activebool</th>\n",
       "      <th>create_date</th>\n",
       "      <th>last_update</th>\n",
       "      <th>active</th>\n",
       "    </tr>\n",
       "  </thead>\n",
       "  <tbody>\n",
       "    <tr>\n",
       "      <th>374</th>\n",
       "      <td>375</td>\n",
       "      <td>2</td>\n",
       "      <td>AARON</td>\n",
       "      <td>SELBY</td>\n",
       "      <td>AARON.SELBY@sakilacustomer.org</td>\n",
       "      <td>380</td>\n",
       "      <td>True</td>\n",
       "      <td>2006-02-14</td>\n",
       "      <td>2006-02-15 09:57:20</td>\n",
       "      <td>1</td>\n",
       "    </tr>\n",
       "    <tr>\n",
       "      <th>366</th>\n",
       "      <td>367</td>\n",
       "      <td>1</td>\n",
       "      <td>ADAM</td>\n",
       "      <td>GOOCH</td>\n",
       "      <td>ADAM.GOOCH@sakilacustomer.org</td>\n",
       "      <td>372</td>\n",
       "      <td>True</td>\n",
       "      <td>2006-02-14</td>\n",
       "      <td>2006-02-15 09:57:20</td>\n",
       "      <td>1</td>\n",
       "    </tr>\n",
       "    <tr>\n",
       "      <th>524</th>\n",
       "      <td>525</td>\n",
       "      <td>2</td>\n",
       "      <td>ADRIAN</td>\n",
       "      <td>CLARY</td>\n",
       "      <td>ADRIAN.CLARY@sakilacustomer.org</td>\n",
       "      <td>531</td>\n",
       "      <td>True</td>\n",
       "      <td>2006-02-14</td>\n",
       "      <td>2006-02-15 09:57:20</td>\n",
       "      <td>1</td>\n",
       "    </tr>\n",
       "    <tr>\n",
       "      <th>216</th>\n",
       "      <td>217</td>\n",
       "      <td>2</td>\n",
       "      <td>AGNES</td>\n",
       "      <td>BISHOP</td>\n",
       "      <td>AGNES.BISHOP@sakilacustomer.org</td>\n",
       "      <td>221</td>\n",
       "      <td>True</td>\n",
       "      <td>2006-02-14</td>\n",
       "      <td>2006-02-15 09:57:20</td>\n",
       "      <td>1</td>\n",
       "    </tr>\n",
       "    <tr>\n",
       "      <th>388</th>\n",
       "      <td>389</td>\n",
       "      <td>1</td>\n",
       "      <td>ALAN</td>\n",
       "      <td>KAHN</td>\n",
       "      <td>ALAN.KAHN@sakilacustomer.org</td>\n",
       "      <td>394</td>\n",
       "      <td>True</td>\n",
       "      <td>2006-02-14</td>\n",
       "      <td>2006-02-15 09:57:20</td>\n",
       "      <td>1</td>\n",
       "    </tr>\n",
       "  </tbody>\n",
       "</table>\n",
       "</div>"
      ],
      "text/plain": [
       "     customer_id  store_id first_name last_name  \\\n",
       "374          375         2      AARON     SELBY   \n",
       "366          367         1       ADAM     GOOCH   \n",
       "524          525         2     ADRIAN     CLARY   \n",
       "216          217         2      AGNES    BISHOP   \n",
       "388          389         1       ALAN      KAHN   \n",
       "\n",
       "                               email  address_id  activebool create_date  \\\n",
       "374   AARON.SELBY@sakilacustomer.org         380        True  2006-02-14   \n",
       "366    ADAM.GOOCH@sakilacustomer.org         372        True  2006-02-14   \n",
       "524  ADRIAN.CLARY@sakilacustomer.org         531        True  2006-02-14   \n",
       "216  AGNES.BISHOP@sakilacustomer.org         221        True  2006-02-14   \n",
       "388     ALAN.KAHN@sakilacustomer.org         394        True  2006-02-14   \n",
       "\n",
       "             last_update  active  \n",
       "374  2006-02-15 09:57:20       1  \n",
       "366  2006-02-15 09:57:20       1  \n",
       "524  2006-02-15 09:57:20       1  \n",
       "216  2006-02-15 09:57:20       1  \n",
       "388  2006-02-15 09:57:20       1  "
      ]
     },
     "execution_count": 20,
     "metadata": {},
     "output_type": "execute_result"
    }
   ],
   "source": [
    "customer.sort_values(by='first_name', inplace=True)\n",
    "customer.head()"
   ]
  },
  {
   "cell_type": "markdown",
   "id": "4f8a0f13",
   "metadata": {
    "cell_id": "00049-aa9ed7a1-2a1d-4284-824f-1eed0f314a60",
    "deepnote_cell_type": "markdown"
   },
   "source": [
    "---\n",
    "### Reset Index\n",
    "\n",
    "You may notice that the index of the customer data is no longer in order. We can get it back in order by [resetting the index](https://pandas.pydata.org/pandas-docs/stable/reference/api/pandas.DataFrame.reset_index.html?highlight=reset#pandas.DataFrame.reset_index). \n",
    "\n",
    "Note:When we looked at the columns in the table, the index is not listed!\n",
    "\n",
    "The syntax for resetting the index is:\n",
    "> <span style=\"color:blue\">\\# *Reset the index* </span><br>\n",
    "DataFrame.reset_index()\n",
    "\n",
    "In this example *DataFrame* is the name of the DataFrame.\n",
    "\n",
    "If we wanted to set the index, we could use the ``set_index`` method, whose documentation is [here](https://pandas.pydata.org/pandas-docs/stable/reference/api/pandas.DataFrame.set_index.html)"
   ]
  },
  {
   "cell_type": "code",
   "execution_count": 21,
   "id": "cce86e06",
   "metadata": {
    "cell_id": "00050-a86e7b0e-ae83-48c2-a1c6-268ba52158e6",
    "deepnote_cell_type": "code",
    "deepnote_to_be_reexecuted": true,
    "source_hash": "d6cfa946"
   },
   "outputs": [
    {
     "data": {
      "text/html": [
       "<div>\n",
       "<style scoped>\n",
       "    .dataframe tbody tr th:only-of-type {\n",
       "        vertical-align: middle;\n",
       "    }\n",
       "\n",
       "    .dataframe tbody tr th {\n",
       "        vertical-align: top;\n",
       "    }\n",
       "\n",
       "    .dataframe thead th {\n",
       "        text-align: right;\n",
       "    }\n",
       "</style>\n",
       "<table border=\"1\" class=\"dataframe\">\n",
       "  <thead>\n",
       "    <tr style=\"text-align: right;\">\n",
       "      <th></th>\n",
       "      <th>index</th>\n",
       "      <th>customer_id</th>\n",
       "      <th>store_id</th>\n",
       "      <th>first_name</th>\n",
       "      <th>last_name</th>\n",
       "      <th>email</th>\n",
       "      <th>address_id</th>\n",
       "      <th>activebool</th>\n",
       "      <th>create_date</th>\n",
       "      <th>last_update</th>\n",
       "      <th>active</th>\n",
       "    </tr>\n",
       "  </thead>\n",
       "  <tbody>\n",
       "    <tr>\n",
       "      <th>0</th>\n",
       "      <td>374</td>\n",
       "      <td>375</td>\n",
       "      <td>2</td>\n",
       "      <td>AARON</td>\n",
       "      <td>SELBY</td>\n",
       "      <td>AARON.SELBY@sakilacustomer.org</td>\n",
       "      <td>380</td>\n",
       "      <td>True</td>\n",
       "      <td>2006-02-14</td>\n",
       "      <td>2006-02-15 09:57:20</td>\n",
       "      <td>1</td>\n",
       "    </tr>\n",
       "    <tr>\n",
       "      <th>1</th>\n",
       "      <td>366</td>\n",
       "      <td>367</td>\n",
       "      <td>1</td>\n",
       "      <td>ADAM</td>\n",
       "      <td>GOOCH</td>\n",
       "      <td>ADAM.GOOCH@sakilacustomer.org</td>\n",
       "      <td>372</td>\n",
       "      <td>True</td>\n",
       "      <td>2006-02-14</td>\n",
       "      <td>2006-02-15 09:57:20</td>\n",
       "      <td>1</td>\n",
       "    </tr>\n",
       "    <tr>\n",
       "      <th>2</th>\n",
       "      <td>524</td>\n",
       "      <td>525</td>\n",
       "      <td>2</td>\n",
       "      <td>ADRIAN</td>\n",
       "      <td>CLARY</td>\n",
       "      <td>ADRIAN.CLARY@sakilacustomer.org</td>\n",
       "      <td>531</td>\n",
       "      <td>True</td>\n",
       "      <td>2006-02-14</td>\n",
       "      <td>2006-02-15 09:57:20</td>\n",
       "      <td>1</td>\n",
       "    </tr>\n",
       "    <tr>\n",
       "      <th>3</th>\n",
       "      <td>216</td>\n",
       "      <td>217</td>\n",
       "      <td>2</td>\n",
       "      <td>AGNES</td>\n",
       "      <td>BISHOP</td>\n",
       "      <td>AGNES.BISHOP@sakilacustomer.org</td>\n",
       "      <td>221</td>\n",
       "      <td>True</td>\n",
       "      <td>2006-02-14</td>\n",
       "      <td>2006-02-15 09:57:20</td>\n",
       "      <td>1</td>\n",
       "    </tr>\n",
       "    <tr>\n",
       "      <th>4</th>\n",
       "      <td>388</td>\n",
       "      <td>389</td>\n",
       "      <td>1</td>\n",
       "      <td>ALAN</td>\n",
       "      <td>KAHN</td>\n",
       "      <td>ALAN.KAHN@sakilacustomer.org</td>\n",
       "      <td>394</td>\n",
       "      <td>True</td>\n",
       "      <td>2006-02-14</td>\n",
       "      <td>2006-02-15 09:57:20</td>\n",
       "      <td>1</td>\n",
       "    </tr>\n",
       "  </tbody>\n",
       "</table>\n",
       "</div>"
      ],
      "text/plain": [
       "   index  customer_id  store_id first_name last_name  \\\n",
       "0    374          375         2      AARON     SELBY   \n",
       "1    366          367         1       ADAM     GOOCH   \n",
       "2    524          525         2     ADRIAN     CLARY   \n",
       "3    216          217         2      AGNES    BISHOP   \n",
       "4    388          389         1       ALAN      KAHN   \n",
       "\n",
       "                             email  address_id  activebool create_date  \\\n",
       "0   AARON.SELBY@sakilacustomer.org         380        True  2006-02-14   \n",
       "1    ADAM.GOOCH@sakilacustomer.org         372        True  2006-02-14   \n",
       "2  ADRIAN.CLARY@sakilacustomer.org         531        True  2006-02-14   \n",
       "3  AGNES.BISHOP@sakilacustomer.org         221        True  2006-02-14   \n",
       "4     ALAN.KAHN@sakilacustomer.org         394        True  2006-02-14   \n",
       "\n",
       "           last_update  active  \n",
       "0  2006-02-15 09:57:20       1  \n",
       "1  2006-02-15 09:57:20       1  \n",
       "2  2006-02-15 09:57:20       1  \n",
       "3  2006-02-15 09:57:20       1  \n",
       "4  2006-02-15 09:57:20       1  "
      ]
     },
     "execution_count": 21,
     "metadata": {},
     "output_type": "execute_result"
    }
   ],
   "source": [
    "## Reset the index\n",
    "customer.reset_index().head()"
   ]
  },
  {
   "cell_type": "markdown",
   "id": "cf33986f",
   "metadata": {
    "cell_id": "00051-6c15be89-605c-4e78-86c4-503dc7690d09",
    "deepnote_cell_type": "markdown"
   },
   "source": [
    "Notice that a new column has been added: ``index``, the old index! To stop this, we can use the *``drop`` flag* and set it to ``True``\n",
    "\n",
    "Also, this resets the index *temporarily*. To fix it, use the *``inplace`` flag* and set it to ``True``.\n",
    "\n",
    "The syntax for sorting the data in place is:\n",
    "> DataFrame.reset_index(inplace = <span style='color:green; font-weight:bold'>True</span>, drop = <span style='color:green; font-weight:bold'>True</span>)"
   ]
  },
  {
   "cell_type": "code",
   "execution_count": 22,
   "id": "c79d8edc",
   "metadata": {
    "cell_id": "00052-80af894f-4bda-4eb0-9af6-5b1c8066a24c",
    "deepnote_cell_type": "code",
    "deepnote_to_be_reexecuted": true,
    "source_hash": "49793c6c"
   },
   "outputs": [
    {
     "data": {
      "text/html": [
       "<div>\n",
       "<style scoped>\n",
       "    .dataframe tbody tr th:only-of-type {\n",
       "        vertical-align: middle;\n",
       "    }\n",
       "\n",
       "    .dataframe tbody tr th {\n",
       "        vertical-align: top;\n",
       "    }\n",
       "\n",
       "    .dataframe thead th {\n",
       "        text-align: right;\n",
       "    }\n",
       "</style>\n",
       "<table border=\"1\" class=\"dataframe\">\n",
       "  <thead>\n",
       "    <tr style=\"text-align: right;\">\n",
       "      <th></th>\n",
       "      <th>customer_id</th>\n",
       "      <th>store_id</th>\n",
       "      <th>first_name</th>\n",
       "      <th>last_name</th>\n",
       "      <th>email</th>\n",
       "      <th>address_id</th>\n",
       "      <th>activebool</th>\n",
       "      <th>create_date</th>\n",
       "      <th>last_update</th>\n",
       "      <th>active</th>\n",
       "    </tr>\n",
       "  </thead>\n",
       "  <tbody>\n",
       "    <tr>\n",
       "      <th>0</th>\n",
       "      <td>375</td>\n",
       "      <td>2</td>\n",
       "      <td>AARON</td>\n",
       "      <td>SELBY</td>\n",
       "      <td>AARON.SELBY@sakilacustomer.org</td>\n",
       "      <td>380</td>\n",
       "      <td>True</td>\n",
       "      <td>2006-02-14</td>\n",
       "      <td>2006-02-15 09:57:20</td>\n",
       "      <td>1</td>\n",
       "    </tr>\n",
       "    <tr>\n",
       "      <th>1</th>\n",
       "      <td>367</td>\n",
       "      <td>1</td>\n",
       "      <td>ADAM</td>\n",
       "      <td>GOOCH</td>\n",
       "      <td>ADAM.GOOCH@sakilacustomer.org</td>\n",
       "      <td>372</td>\n",
       "      <td>True</td>\n",
       "      <td>2006-02-14</td>\n",
       "      <td>2006-02-15 09:57:20</td>\n",
       "      <td>1</td>\n",
       "    </tr>\n",
       "    <tr>\n",
       "      <th>2</th>\n",
       "      <td>525</td>\n",
       "      <td>2</td>\n",
       "      <td>ADRIAN</td>\n",
       "      <td>CLARY</td>\n",
       "      <td>ADRIAN.CLARY@sakilacustomer.org</td>\n",
       "      <td>531</td>\n",
       "      <td>True</td>\n",
       "      <td>2006-02-14</td>\n",
       "      <td>2006-02-15 09:57:20</td>\n",
       "      <td>1</td>\n",
       "    </tr>\n",
       "    <tr>\n",
       "      <th>3</th>\n",
       "      <td>217</td>\n",
       "      <td>2</td>\n",
       "      <td>AGNES</td>\n",
       "      <td>BISHOP</td>\n",
       "      <td>AGNES.BISHOP@sakilacustomer.org</td>\n",
       "      <td>221</td>\n",
       "      <td>True</td>\n",
       "      <td>2006-02-14</td>\n",
       "      <td>2006-02-15 09:57:20</td>\n",
       "      <td>1</td>\n",
       "    </tr>\n",
       "    <tr>\n",
       "      <th>4</th>\n",
       "      <td>389</td>\n",
       "      <td>1</td>\n",
       "      <td>ALAN</td>\n",
       "      <td>KAHN</td>\n",
       "      <td>ALAN.KAHN@sakilacustomer.org</td>\n",
       "      <td>394</td>\n",
       "      <td>True</td>\n",
       "      <td>2006-02-14</td>\n",
       "      <td>2006-02-15 09:57:20</td>\n",
       "      <td>1</td>\n",
       "    </tr>\n",
       "  </tbody>\n",
       "</table>\n",
       "</div>"
      ],
      "text/plain": [
       "   customer_id  store_id first_name last_name  \\\n",
       "0          375         2      AARON     SELBY   \n",
       "1          367         1       ADAM     GOOCH   \n",
       "2          525         2     ADRIAN     CLARY   \n",
       "3          217         2      AGNES    BISHOP   \n",
       "4          389         1       ALAN      KAHN   \n",
       "\n",
       "                             email  address_id  activebool create_date  \\\n",
       "0   AARON.SELBY@sakilacustomer.org         380        True  2006-02-14   \n",
       "1    ADAM.GOOCH@sakilacustomer.org         372        True  2006-02-14   \n",
       "2  ADRIAN.CLARY@sakilacustomer.org         531        True  2006-02-14   \n",
       "3  AGNES.BISHOP@sakilacustomer.org         221        True  2006-02-14   \n",
       "4     ALAN.KAHN@sakilacustomer.org         394        True  2006-02-14   \n",
       "\n",
       "           last_update  active  \n",
       "0  2006-02-15 09:57:20       1  \n",
       "1  2006-02-15 09:57:20       1  \n",
       "2  2006-02-15 09:57:20       1  \n",
       "3  2006-02-15 09:57:20       1  \n",
       "4  2006-02-15 09:57:20       1  "
      ]
     },
     "execution_count": 22,
     "metadata": {},
     "output_type": "execute_result"
    }
   ],
   "source": [
    "## Reset the index in place\n",
    "customer.reset_index(inplace = True, drop = True)\n",
    "customer.head()"
   ]
  },
  {
   "cell_type": "markdown",
   "id": "b371dea6",
   "metadata": {
    "cell_id": "00053-5f40352a-7f07-47c5-827a-48e2fd75b60b",
    "deepnote_cell_type": "markdown"
   },
   "source": [
    "---\n",
    "<a id=\"filter\"></a>\n",
    "# Filtering Rows\n",
    "[Back to Contents](#Contents)\n",
    "\n",
    "If we wish to look at subsets of the data, we will need to filter or group it. Lets start by learning to filter it.\n",
    "\n",
    "To do so, we need to be able to choose a specific row from our table.\n",
    "\n",
    "The syntax for filtering a DataFrame is:\n",
    "> <span style=\"color:blue\">\\# *Filter the DataFrame* </span><br>\n",
    "DataFrame\\[ DataFrame\\[<span style='color:red'>'Column'</span>\\] == <span style='color:red'>'value'</span> \\]\n",
    "\n",
    "In this example *DataFrame* is the name of the DataFrame, *Column* is the name of the column we want to filter on and *value* is the value we're interested in."
   ]
  },
  {
   "cell_type": "code",
   "execution_count": 23,
   "id": "8ca5976e",
   "metadata": {
    "cell_id": "00054-9a2bab54-fb71-454a-a441-d9e5cd1cd374",
    "deepnote_cell_type": "code",
    "deepnote_to_be_reexecuted": true,
    "source_hash": "82c5508f"
   },
   "outputs": [
    {
     "data": {
      "text/html": [
       "<div>\n",
       "<style scoped>\n",
       "    .dataframe tbody tr th:only-of-type {\n",
       "        vertical-align: middle;\n",
       "    }\n",
       "\n",
       "    .dataframe tbody tr th {\n",
       "        vertical-align: top;\n",
       "    }\n",
       "\n",
       "    .dataframe thead th {\n",
       "        text-align: right;\n",
       "    }\n",
       "</style>\n",
       "<table border=\"1\" class=\"dataframe\">\n",
       "  <thead>\n",
       "    <tr style=\"text-align: right;\">\n",
       "      <th></th>\n",
       "      <th>customer_id</th>\n",
       "      <th>store_id</th>\n",
       "      <th>first_name</th>\n",
       "      <th>last_name</th>\n",
       "      <th>email</th>\n",
       "      <th>address_id</th>\n",
       "      <th>activebool</th>\n",
       "      <th>create_date</th>\n",
       "      <th>last_update</th>\n",
       "      <th>active</th>\n",
       "    </tr>\n",
       "  </thead>\n",
       "  <tbody>\n",
       "    <tr>\n",
       "      <th>0</th>\n",
       "      <td>375</td>\n",
       "      <td>2</td>\n",
       "      <td>AARON</td>\n",
       "      <td>SELBY</td>\n",
       "      <td>AARON.SELBY@sakilacustomer.org</td>\n",
       "      <td>380</td>\n",
       "      <td>True</td>\n",
       "      <td>2006-02-14</td>\n",
       "      <td>2006-02-15 09:57:20</td>\n",
       "      <td>1</td>\n",
       "    </tr>\n",
       "    <tr>\n",
       "      <th>2</th>\n",
       "      <td>525</td>\n",
       "      <td>2</td>\n",
       "      <td>ADRIAN</td>\n",
       "      <td>CLARY</td>\n",
       "      <td>ADRIAN.CLARY@sakilacustomer.org</td>\n",
       "      <td>531</td>\n",
       "      <td>True</td>\n",
       "      <td>2006-02-14</td>\n",
       "      <td>2006-02-15 09:57:20</td>\n",
       "      <td>1</td>\n",
       "    </tr>\n",
       "    <tr>\n",
       "      <th>3</th>\n",
       "      <td>217</td>\n",
       "      <td>2</td>\n",
       "      <td>AGNES</td>\n",
       "      <td>BISHOP</td>\n",
       "      <td>AGNES.BISHOP@sakilacustomer.org</td>\n",
       "      <td>221</td>\n",
       "      <td>True</td>\n",
       "      <td>2006-02-14</td>\n",
       "      <td>2006-02-15 09:57:20</td>\n",
       "      <td>1</td>\n",
       "    </tr>\n",
       "    <tr>\n",
       "      <th>6</th>\n",
       "      <td>568</td>\n",
       "      <td>2</td>\n",
       "      <td>ALBERTO</td>\n",
       "      <td>HENNING</td>\n",
       "      <td>ALBERTO.HENNING@sakilacustomer.org</td>\n",
       "      <td>574</td>\n",
       "      <td>True</td>\n",
       "      <td>2006-02-14</td>\n",
       "      <td>2006-02-15 09:57:20</td>\n",
       "      <td>1</td>\n",
       "    </tr>\n",
       "    <tr>\n",
       "      <th>7</th>\n",
       "      <td>454</td>\n",
       "      <td>2</td>\n",
       "      <td>ALEX</td>\n",
       "      <td>GRESHAM</td>\n",
       "      <td>ALEX.GRESHAM@sakilacustomer.org</td>\n",
       "      <td>459</td>\n",
       "      <td>True</td>\n",
       "      <td>2006-02-14</td>\n",
       "      <td>2006-02-15 09:57:20</td>\n",
       "      <td>1</td>\n",
       "    </tr>\n",
       "    <tr>\n",
       "      <th>...</th>\n",
       "      <td>...</td>\n",
       "      <td>...</td>\n",
       "      <td>...</td>\n",
       "      <td>...</td>\n",
       "      <td>...</td>\n",
       "      <td>...</td>\n",
       "      <td>...</td>\n",
       "      <td>...</td>\n",
       "      <td>...</td>\n",
       "      <td>...</td>\n",
       "    </tr>\n",
       "    <tr>\n",
       "      <th>593</th>\n",
       "      <td>359</td>\n",
       "      <td>2</td>\n",
       "      <td>WILLIE</td>\n",
       "      <td>MARKHAM</td>\n",
       "      <td>WILLIE.MARKHAM@sakilacustomer.org</td>\n",
       "      <td>364</td>\n",
       "      <td>True</td>\n",
       "      <td>2006-02-14</td>\n",
       "      <td>2006-02-15 09:57:20</td>\n",
       "      <td>1</td>\n",
       "    </tr>\n",
       "    <tr>\n",
       "      <th>594</th>\n",
       "      <td>219</td>\n",
       "      <td>2</td>\n",
       "      <td>WILLIE</td>\n",
       "      <td>HOWELL</td>\n",
       "      <td>WILLIE.HOWELL@sakilacustomer.org</td>\n",
       "      <td>223</td>\n",
       "      <td>True</td>\n",
       "      <td>2006-02-14</td>\n",
       "      <td>2006-02-15 09:57:20</td>\n",
       "      <td>1</td>\n",
       "    </tr>\n",
       "    <tr>\n",
       "      <th>595</th>\n",
       "      <td>212</td>\n",
       "      <td>2</td>\n",
       "      <td>WILMA</td>\n",
       "      <td>RICHARDS</td>\n",
       "      <td>WILMA.RICHARDS@sakilacustomer.org</td>\n",
       "      <td>216</td>\n",
       "      <td>True</td>\n",
       "      <td>2006-02-14</td>\n",
       "      <td>2006-02-15 09:57:20</td>\n",
       "      <td>1</td>\n",
       "    </tr>\n",
       "    <tr>\n",
       "      <th>596</th>\n",
       "      <td>190</td>\n",
       "      <td>2</td>\n",
       "      <td>YOLANDA</td>\n",
       "      <td>WEAVER</td>\n",
       "      <td>YOLANDA.WEAVER@sakilacustomer.org</td>\n",
       "      <td>194</td>\n",
       "      <td>True</td>\n",
       "      <td>2006-02-14</td>\n",
       "      <td>2006-02-15 09:57:20</td>\n",
       "      <td>1</td>\n",
       "    </tr>\n",
       "    <tr>\n",
       "      <th>597</th>\n",
       "      <td>174</td>\n",
       "      <td>2</td>\n",
       "      <td>YVONNE</td>\n",
       "      <td>WATKINS</td>\n",
       "      <td>YVONNE.WATKINS@sakilacustomer.org</td>\n",
       "      <td>178</td>\n",
       "      <td>True</td>\n",
       "      <td>2006-02-14</td>\n",
       "      <td>2006-02-15 09:57:20</td>\n",
       "      <td>1</td>\n",
       "    </tr>\n",
       "  </tbody>\n",
       "</table>\n",
       "<p>273 rows × 10 columns</p>\n",
       "</div>"
      ],
      "text/plain": [
       "     customer_id  store_id first_name last_name  \\\n",
       "0            375         2      AARON     SELBY   \n",
       "2            525         2     ADRIAN     CLARY   \n",
       "3            217         2      AGNES    BISHOP   \n",
       "6            568         2    ALBERTO   HENNING   \n",
       "7            454         2       ALEX   GRESHAM   \n",
       "..           ...       ...        ...       ...   \n",
       "593          359         2     WILLIE   MARKHAM   \n",
       "594          219         2     WILLIE    HOWELL   \n",
       "595          212         2      WILMA  RICHARDS   \n",
       "596          190         2    YOLANDA    WEAVER   \n",
       "597          174         2     YVONNE   WATKINS   \n",
       "\n",
       "                                  email  address_id  activebool create_date  \\\n",
       "0        AARON.SELBY@sakilacustomer.org         380        True  2006-02-14   \n",
       "2       ADRIAN.CLARY@sakilacustomer.org         531        True  2006-02-14   \n",
       "3       AGNES.BISHOP@sakilacustomer.org         221        True  2006-02-14   \n",
       "6    ALBERTO.HENNING@sakilacustomer.org         574        True  2006-02-14   \n",
       "7       ALEX.GRESHAM@sakilacustomer.org         459        True  2006-02-14   \n",
       "..                                  ...         ...         ...         ...   \n",
       "593   WILLIE.MARKHAM@sakilacustomer.org         364        True  2006-02-14   \n",
       "594    WILLIE.HOWELL@sakilacustomer.org         223        True  2006-02-14   \n",
       "595   WILMA.RICHARDS@sakilacustomer.org         216        True  2006-02-14   \n",
       "596   YOLANDA.WEAVER@sakilacustomer.org         194        True  2006-02-14   \n",
       "597   YVONNE.WATKINS@sakilacustomer.org         178        True  2006-02-14   \n",
       "\n",
       "             last_update  active  \n",
       "0    2006-02-15 09:57:20       1  \n",
       "2    2006-02-15 09:57:20       1  \n",
       "3    2006-02-15 09:57:20       1  \n",
       "6    2006-02-15 09:57:20       1  \n",
       "7    2006-02-15 09:57:20       1  \n",
       "..                   ...     ...  \n",
       "593  2006-02-15 09:57:20       1  \n",
       "594  2006-02-15 09:57:20       1  \n",
       "595  2006-02-15 09:57:20       1  \n",
       "596  2006-02-15 09:57:20       1  \n",
       "597  2006-02-15 09:57:20       1  \n",
       "\n",
       "[273 rows x 10 columns]"
      ]
     },
     "execution_count": 23,
     "metadata": {},
     "output_type": "execute_result"
    }
   ],
   "source": [
    "# Filter the table to just the store that we are interested in\n",
    "\n",
    "customer[customer['store_id'] == 2]"
   ]
  },
  {
   "cell_type": "markdown",
   "id": "63623c1e",
   "metadata": {
    "cell_id": "00055-8a04f1ae-d313-4439-b50e-0a701f8d99dc",
    "deepnote_cell_type": "markdown"
   },
   "source": [
    "---\n",
    "#### Let's break down this line to see what's happening:"
   ]
  },
  {
   "cell_type": "code",
   "execution_count": 24,
   "id": "5dd1fb8a",
   "metadata": {
    "cell_id": "00056-0c9080e3-78a3-4a4b-b5fe-5c3103cbcad4",
    "deepnote_cell_type": "code",
    "deepnote_to_be_reexecuted": true,
    "source_hash": "e2afff58"
   },
   "outputs": [
    {
     "data": {
      "text/plain": [
       "0       True\n",
       "1      False\n",
       "2       True\n",
       "3       True\n",
       "4      False\n",
       "       ...  \n",
       "594     True\n",
       "595     True\n",
       "596     True\n",
       "597     True\n",
       "598    False\n",
       "Name: store_id, Length: 599, dtype: bool"
      ]
     },
     "execution_count": 24,
     "metadata": {},
     "output_type": "execute_result"
    }
   ],
   "source": [
    "# Let's see what happens when we run the following code:\n",
    "\n",
    "store_id_filter = customer['store_id'] == 2\n",
    "store_id_filter"
   ]
  },
  {
   "cell_type": "markdown",
   "id": "edf7d669",
   "metadata": {
    "cell_id": "00057-661fc984-ecc1-434b-87f4-e3b76322c490",
    "deepnote_cell_type": "markdown"
   },
   "source": [
    "#### These can be combined together"
   ]
  },
  {
   "cell_type": "code",
   "execution_count": 25,
   "id": "7b1a03b2",
   "metadata": {
    "cell_id": "00058-dd8a9225-5db5-4e09-a11b-83c104ab13c5",
    "deepnote_cell_type": "code",
    "deepnote_to_be_reexecuted": true,
    "source_hash": "5f01909e"
   },
   "outputs": [
    {
     "data": {
      "text/html": [
       "<div>\n",
       "<style scoped>\n",
       "    .dataframe tbody tr th:only-of-type {\n",
       "        vertical-align: middle;\n",
       "    }\n",
       "\n",
       "    .dataframe tbody tr th {\n",
       "        vertical-align: top;\n",
       "    }\n",
       "\n",
       "    .dataframe thead th {\n",
       "        text-align: right;\n",
       "    }\n",
       "</style>\n",
       "<table border=\"1\" class=\"dataframe\">\n",
       "  <thead>\n",
       "    <tr style=\"text-align: right;\">\n",
       "      <th></th>\n",
       "      <th>customer_id</th>\n",
       "      <th>store_id</th>\n",
       "      <th>first_name</th>\n",
       "      <th>last_name</th>\n",
       "      <th>email</th>\n",
       "      <th>address_id</th>\n",
       "      <th>activebool</th>\n",
       "      <th>create_date</th>\n",
       "      <th>last_update</th>\n",
       "      <th>active</th>\n",
       "    </tr>\n",
       "  </thead>\n",
       "  <tbody>\n",
       "    <tr>\n",
       "      <th>0</th>\n",
       "      <td>375</td>\n",
       "      <td>2</td>\n",
       "      <td>AARON</td>\n",
       "      <td>SELBY</td>\n",
       "      <td>AARON.SELBY@sakilacustomer.org</td>\n",
       "      <td>380</td>\n",
       "      <td>True</td>\n",
       "      <td>2006-02-14</td>\n",
       "      <td>2006-02-15 09:57:20</td>\n",
       "      <td>1</td>\n",
       "    </tr>\n",
       "    <tr>\n",
       "      <th>2</th>\n",
       "      <td>525</td>\n",
       "      <td>2</td>\n",
       "      <td>ADRIAN</td>\n",
       "      <td>CLARY</td>\n",
       "      <td>ADRIAN.CLARY@sakilacustomer.org</td>\n",
       "      <td>531</td>\n",
       "      <td>True</td>\n",
       "      <td>2006-02-14</td>\n",
       "      <td>2006-02-15 09:57:20</td>\n",
       "      <td>1</td>\n",
       "    </tr>\n",
       "    <tr>\n",
       "      <th>3</th>\n",
       "      <td>217</td>\n",
       "      <td>2</td>\n",
       "      <td>AGNES</td>\n",
       "      <td>BISHOP</td>\n",
       "      <td>AGNES.BISHOP@sakilacustomer.org</td>\n",
       "      <td>221</td>\n",
       "      <td>True</td>\n",
       "      <td>2006-02-14</td>\n",
       "      <td>2006-02-15 09:57:20</td>\n",
       "      <td>1</td>\n",
       "    </tr>\n",
       "    <tr>\n",
       "      <th>6</th>\n",
       "      <td>568</td>\n",
       "      <td>2</td>\n",
       "      <td>ALBERTO</td>\n",
       "      <td>HENNING</td>\n",
       "      <td>ALBERTO.HENNING@sakilacustomer.org</td>\n",
       "      <td>574</td>\n",
       "      <td>True</td>\n",
       "      <td>2006-02-14</td>\n",
       "      <td>2006-02-15 09:57:20</td>\n",
       "      <td>1</td>\n",
       "    </tr>\n",
       "    <tr>\n",
       "      <th>7</th>\n",
       "      <td>454</td>\n",
       "      <td>2</td>\n",
       "      <td>ALEX</td>\n",
       "      <td>GRESHAM</td>\n",
       "      <td>ALEX.GRESHAM@sakilacustomer.org</td>\n",
       "      <td>459</td>\n",
       "      <td>True</td>\n",
       "      <td>2006-02-14</td>\n",
       "      <td>2006-02-15 09:57:20</td>\n",
       "      <td>1</td>\n",
       "    </tr>\n",
       "    <tr>\n",
       "      <th>...</th>\n",
       "      <td>...</td>\n",
       "      <td>...</td>\n",
       "      <td>...</td>\n",
       "      <td>...</td>\n",
       "      <td>...</td>\n",
       "      <td>...</td>\n",
       "      <td>...</td>\n",
       "      <td>...</td>\n",
       "      <td>...</td>\n",
       "      <td>...</td>\n",
       "    </tr>\n",
       "    <tr>\n",
       "      <th>593</th>\n",
       "      <td>359</td>\n",
       "      <td>2</td>\n",
       "      <td>WILLIE</td>\n",
       "      <td>MARKHAM</td>\n",
       "      <td>WILLIE.MARKHAM@sakilacustomer.org</td>\n",
       "      <td>364</td>\n",
       "      <td>True</td>\n",
       "      <td>2006-02-14</td>\n",
       "      <td>2006-02-15 09:57:20</td>\n",
       "      <td>1</td>\n",
       "    </tr>\n",
       "    <tr>\n",
       "      <th>594</th>\n",
       "      <td>219</td>\n",
       "      <td>2</td>\n",
       "      <td>WILLIE</td>\n",
       "      <td>HOWELL</td>\n",
       "      <td>WILLIE.HOWELL@sakilacustomer.org</td>\n",
       "      <td>223</td>\n",
       "      <td>True</td>\n",
       "      <td>2006-02-14</td>\n",
       "      <td>2006-02-15 09:57:20</td>\n",
       "      <td>1</td>\n",
       "    </tr>\n",
       "    <tr>\n",
       "      <th>595</th>\n",
       "      <td>212</td>\n",
       "      <td>2</td>\n",
       "      <td>WILMA</td>\n",
       "      <td>RICHARDS</td>\n",
       "      <td>WILMA.RICHARDS@sakilacustomer.org</td>\n",
       "      <td>216</td>\n",
       "      <td>True</td>\n",
       "      <td>2006-02-14</td>\n",
       "      <td>2006-02-15 09:57:20</td>\n",
       "      <td>1</td>\n",
       "    </tr>\n",
       "    <tr>\n",
       "      <th>596</th>\n",
       "      <td>190</td>\n",
       "      <td>2</td>\n",
       "      <td>YOLANDA</td>\n",
       "      <td>WEAVER</td>\n",
       "      <td>YOLANDA.WEAVER@sakilacustomer.org</td>\n",
       "      <td>194</td>\n",
       "      <td>True</td>\n",
       "      <td>2006-02-14</td>\n",
       "      <td>2006-02-15 09:57:20</td>\n",
       "      <td>1</td>\n",
       "    </tr>\n",
       "    <tr>\n",
       "      <th>597</th>\n",
       "      <td>174</td>\n",
       "      <td>2</td>\n",
       "      <td>YVONNE</td>\n",
       "      <td>WATKINS</td>\n",
       "      <td>YVONNE.WATKINS@sakilacustomer.org</td>\n",
       "      <td>178</td>\n",
       "      <td>True</td>\n",
       "      <td>2006-02-14</td>\n",
       "      <td>2006-02-15 09:57:20</td>\n",
       "      <td>1</td>\n",
       "    </tr>\n",
       "  </tbody>\n",
       "</table>\n",
       "<p>273 rows × 10 columns</p>\n",
       "</div>"
      ],
      "text/plain": [
       "     customer_id  store_id first_name last_name  \\\n",
       "0            375         2      AARON     SELBY   \n",
       "2            525         2     ADRIAN     CLARY   \n",
       "3            217         2      AGNES    BISHOP   \n",
       "6            568         2    ALBERTO   HENNING   \n",
       "7            454         2       ALEX   GRESHAM   \n",
       "..           ...       ...        ...       ...   \n",
       "593          359         2     WILLIE   MARKHAM   \n",
       "594          219         2     WILLIE    HOWELL   \n",
       "595          212         2      WILMA  RICHARDS   \n",
       "596          190         2    YOLANDA    WEAVER   \n",
       "597          174         2     YVONNE   WATKINS   \n",
       "\n",
       "                                  email  address_id  activebool create_date  \\\n",
       "0        AARON.SELBY@sakilacustomer.org         380        True  2006-02-14   \n",
       "2       ADRIAN.CLARY@sakilacustomer.org         531        True  2006-02-14   \n",
       "3       AGNES.BISHOP@sakilacustomer.org         221        True  2006-02-14   \n",
       "6    ALBERTO.HENNING@sakilacustomer.org         574        True  2006-02-14   \n",
       "7       ALEX.GRESHAM@sakilacustomer.org         459        True  2006-02-14   \n",
       "..                                  ...         ...         ...         ...   \n",
       "593   WILLIE.MARKHAM@sakilacustomer.org         364        True  2006-02-14   \n",
       "594    WILLIE.HOWELL@sakilacustomer.org         223        True  2006-02-14   \n",
       "595   WILMA.RICHARDS@sakilacustomer.org         216        True  2006-02-14   \n",
       "596   YOLANDA.WEAVER@sakilacustomer.org         194        True  2006-02-14   \n",
       "597   YVONNE.WATKINS@sakilacustomer.org         178        True  2006-02-14   \n",
       "\n",
       "             last_update  active  \n",
       "0    2006-02-15 09:57:20       1  \n",
       "2    2006-02-15 09:57:20       1  \n",
       "3    2006-02-15 09:57:20       1  \n",
       "6    2006-02-15 09:57:20       1  \n",
       "7    2006-02-15 09:57:20       1  \n",
       "..                   ...     ...  \n",
       "593  2006-02-15 09:57:20       1  \n",
       "594  2006-02-15 09:57:20       1  \n",
       "595  2006-02-15 09:57:20       1  \n",
       "596  2006-02-15 09:57:20       1  \n",
       "597  2006-02-15 09:57:20       1  \n",
       "\n",
       "[273 rows x 10 columns]"
      ]
     },
     "execution_count": 25,
     "metadata": {},
     "output_type": "execute_result"
    }
   ],
   "source": [
    "# That code creates a Series of True/False that we can use to filter data.\n",
    "\n",
    "# If we put a series of True/False into square brackets, then\n",
    "# the data will be filtered to only those rows where the value is 'True'\n",
    "\n",
    "customer[store_id_filter]"
   ]
  },
  {
   "cell_type": "markdown",
   "id": "42e0da99",
   "metadata": {
    "cell_id": "00059-7ef3e915-bc0f-47be-a141-3fefc8bd7e2f",
    "deepnote_cell_type": "markdown"
   },
   "source": [
    "<div class=\"alert alert-block alert-warning\">\n",
    "<b>Note</b>\n",
    "This is the same as a SQL WHERE clause<br>\n",
    "    \n",
    "> <span style=\"color:purple;font-weight:bold\">SELECT</span> *<br>\n",
    "<span style=\"color:purple;font-weight:bold\">FROM</span> customer<br>\n",
    "<span style=\"color:purple;font-weight:bold\">WHERE</span> store_id = 2\n",
    "    </div>"
   ]
  },
  {
   "cell_type": "code",
   "execution_count": 26,
   "id": "65a6d183",
   "metadata": {
    "cell_id": "00060-8593d03c-c23a-4611-b035-052d933d6212",
    "deepnote_cell_type": "code",
    "deepnote_to_be_reexecuted": true,
    "source_hash": "95700fc0"
   },
   "outputs": [
    {
     "data": {
      "text/plain": [
       "0      False\n",
       "1      False\n",
       "2      False\n",
       "3      False\n",
       "4      False\n",
       "       ...  \n",
       "594     True\n",
       "595    False\n",
       "596    False\n",
       "597    False\n",
       "598    False\n",
       "Name: first_name, Length: 599, dtype: bool"
      ]
     },
     "execution_count": 26,
     "metadata": {},
     "output_type": "execute_result"
    }
   ],
   "source": [
    "first_name_filter = customer['first_name'].str.upper() == 'WILLIE'\n",
    "first_name_filter"
   ]
  },
  {
   "cell_type": "code",
   "execution_count": 27,
   "id": "6b53dfbc",
   "metadata": {
    "cell_id": "00061-b29fe72e-87d8-40d5-b238-d2cbea3afdd8",
    "deepnote_cell_type": "code",
    "deepnote_to_be_reexecuted": true,
    "source_hash": "fa6c838e"
   },
   "outputs": [
    {
     "data": {
      "text/html": [
       "<div>\n",
       "<style scoped>\n",
       "    .dataframe tbody tr th:only-of-type {\n",
       "        vertical-align: middle;\n",
       "    }\n",
       "\n",
       "    .dataframe tbody tr th {\n",
       "        vertical-align: top;\n",
       "    }\n",
       "\n",
       "    .dataframe thead th {\n",
       "        text-align: right;\n",
       "    }\n",
       "</style>\n",
       "<table border=\"1\" class=\"dataframe\">\n",
       "  <thead>\n",
       "    <tr style=\"text-align: right;\">\n",
       "      <th></th>\n",
       "      <th>customer_id</th>\n",
       "      <th>store_id</th>\n",
       "      <th>first_name</th>\n",
       "      <th>last_name</th>\n",
       "      <th>email</th>\n",
       "      <th>address_id</th>\n",
       "      <th>activebool</th>\n",
       "      <th>create_date</th>\n",
       "      <th>last_update</th>\n",
       "      <th>active</th>\n",
       "    </tr>\n",
       "  </thead>\n",
       "  <tbody>\n",
       "    <tr>\n",
       "      <th>593</th>\n",
       "      <td>359</td>\n",
       "      <td>2</td>\n",
       "      <td>WILLIE</td>\n",
       "      <td>MARKHAM</td>\n",
       "      <td>WILLIE.MARKHAM@sakilacustomer.org</td>\n",
       "      <td>364</td>\n",
       "      <td>True</td>\n",
       "      <td>2006-02-14</td>\n",
       "      <td>2006-02-15 09:57:20</td>\n",
       "      <td>1</td>\n",
       "    </tr>\n",
       "    <tr>\n",
       "      <th>594</th>\n",
       "      <td>219</td>\n",
       "      <td>2</td>\n",
       "      <td>WILLIE</td>\n",
       "      <td>HOWELL</td>\n",
       "      <td>WILLIE.HOWELL@sakilacustomer.org</td>\n",
       "      <td>223</td>\n",
       "      <td>True</td>\n",
       "      <td>2006-02-14</td>\n",
       "      <td>2006-02-15 09:57:20</td>\n",
       "      <td>1</td>\n",
       "    </tr>\n",
       "  </tbody>\n",
       "</table>\n",
       "</div>"
      ],
      "text/plain": [
       "     customer_id  store_id first_name last_name  \\\n",
       "593          359         2     WILLIE   MARKHAM   \n",
       "594          219         2     WILLIE    HOWELL   \n",
       "\n",
       "                                 email  address_id  activebool create_date  \\\n",
       "593  WILLIE.MARKHAM@sakilacustomer.org         364        True  2006-02-14   \n",
       "594   WILLIE.HOWELL@sakilacustomer.org         223        True  2006-02-14   \n",
       "\n",
       "             last_update  active  \n",
       "593  2006-02-15 09:57:20       1  \n",
       "594  2006-02-15 09:57:20       1  "
      ]
     },
     "execution_count": 27,
     "metadata": {},
     "output_type": "execute_result"
    }
   ],
   "source": [
    "customer[(store_id_filter) & (first_name_filter)]"
   ]
  },
  {
   "cell_type": "markdown",
   "id": "63acf67a",
   "metadata": {
    "cell_id": "00062-57456851-c767-45ce-ba62-b6b5a39b9fb2",
    "deepnote_cell_type": "markdown"
   },
   "source": [
    "<div class=\"alert alert-block alert-warning\">\n",
    "<b>Note</b>\n",
    "This is the same as a SQL WHERE clause<br>\n",
    "    \n",
    "> <span style=\"color:purple;font-weight:bold\">SELECT</span> *<br>\n",
    "<span style=\"color:purple;font-weight:bold\">FROM</span> customer<br>\n",
    "<span style=\"color:purple;font-weight:bold\">WHERE</span> store_id = 2 \n",
    "    <span style=\"color:purple;font-weight:bold\">and UPPER</span>(first_name) = 'WILLIE'\n",
    "    </div>"
   ]
  },
  {
   "cell_type": "markdown",
   "id": "4dbf353f",
   "metadata": {},
   "source": [
    "#### Filtering on the index\n",
    "\n",
    "When we bring in a DataFrame, it is automatically assigned an **index** (the *0,1,2,3,...* column). Indexes are useful because they are a **primary key**, just like in SQL.\n",
    "\n",
    "Assigning appropriate indexes allows us to work with our data more efficiently. For example, we can use the `.loc[]` attribute to filter on an index.\n",
    "\n",
    "The syntax for filtering on an index is:\n",
    "> DataFrame.loc[index_value]"
   ]
  },
  {
   "cell_type": "code",
   "execution_count": 28,
   "id": "dad16015",
   "metadata": {},
   "outputs": [
    {
     "data": {
      "text/html": [
       "<div>\n",
       "<style scoped>\n",
       "    .dataframe tbody tr th:only-of-type {\n",
       "        vertical-align: middle;\n",
       "    }\n",
       "\n",
       "    .dataframe tbody tr th {\n",
       "        vertical-align: top;\n",
       "    }\n",
       "\n",
       "    .dataframe thead th {\n",
       "        text-align: right;\n",
       "    }\n",
       "</style>\n",
       "<table border=\"1\" class=\"dataframe\">\n",
       "  <thead>\n",
       "    <tr style=\"text-align: right;\">\n",
       "      <th></th>\n",
       "      <th>customer_id</th>\n",
       "      <th>store_id</th>\n",
       "      <th>first_name</th>\n",
       "      <th>last_name</th>\n",
       "      <th>email</th>\n",
       "      <th>address_id</th>\n",
       "      <th>activebool</th>\n",
       "      <th>create_date</th>\n",
       "      <th>last_update</th>\n",
       "      <th>active</th>\n",
       "    </tr>\n",
       "  </thead>\n",
       "  <tbody>\n",
       "    <tr>\n",
       "      <th>593</th>\n",
       "      <td>359</td>\n",
       "      <td>2</td>\n",
       "      <td>WILLIE</td>\n",
       "      <td>MARKHAM</td>\n",
       "      <td>WILLIE.MARKHAM@sakilacustomer.org</td>\n",
       "      <td>364</td>\n",
       "      <td>True</td>\n",
       "      <td>2006-02-14</td>\n",
       "      <td>2006-02-15 09:57:20</td>\n",
       "      <td>1</td>\n",
       "    </tr>\n",
       "    <tr>\n",
       "      <th>594</th>\n",
       "      <td>219</td>\n",
       "      <td>2</td>\n",
       "      <td>WILLIE</td>\n",
       "      <td>HOWELL</td>\n",
       "      <td>WILLIE.HOWELL@sakilacustomer.org</td>\n",
       "      <td>223</td>\n",
       "      <td>True</td>\n",
       "      <td>2006-02-14</td>\n",
       "      <td>2006-02-15 09:57:20</td>\n",
       "      <td>1</td>\n",
       "    </tr>\n",
       "  </tbody>\n",
       "</table>\n",
       "</div>"
      ],
      "text/plain": [
       "     customer_id  store_id first_name last_name  \\\n",
       "593          359         2     WILLIE   MARKHAM   \n",
       "594          219         2     WILLIE    HOWELL   \n",
       "\n",
       "                                 email  address_id  activebool create_date  \\\n",
       "593  WILLIE.MARKHAM@sakilacustomer.org         364        True  2006-02-14   \n",
       "594   WILLIE.HOWELL@sakilacustomer.org         223        True  2006-02-14   \n",
       "\n",
       "             last_update  active  \n",
       "593  2006-02-15 09:57:20       1  \n",
       "594  2006-02-15 09:57:20       1  "
      ]
     },
     "execution_count": 28,
     "metadata": {},
     "output_type": "execute_result"
    }
   ],
   "source": [
    "customer.loc[[593,594]]"
   ]
  },
  {
   "cell_type": "markdown",
   "id": "07b96470",
   "metadata": {},
   "source": [
    "You can read more about indexing [here](https://www.askpython.com/python-modules/pandas/dataframe-indexing)."
   ]
  },
  {
   "cell_type": "markdown",
   "id": "ae392fcd",
   "metadata": {
    "cell_id": "00063-95b8eaf6-84f5-4f0a-acea-e3be75092baa",
    "deepnote_cell_type": "markdown"
   },
   "source": [
    "---\n",
    "<a id=\"group\"></a>\n",
    "# Aggregating data\n",
    "[Back to Contents](#Contents)\n",
    "\n",
    "If we want to look at a customer's aggregate transactions, we can use the *.groupby()* method to aggregate the data.\n",
    "\n",
    "The syntax for aggregating the DataFrame is:\n",
    "> <span style=\"color:blue\">\\# *Aggregate the DataFrame by group* </span><br>\n",
    "DataFrame.groupby(<span style=\"color:red\">'group'</span>)\n",
    "\n",
    "We can choose what kind of aggregate output we want for the columns by appending the appropreate method. E.g. [sum()](https://pandas.pydata.org/pandas-docs/stable/reference/api/pandas.Series.sum.html#pandas.Series.sum)\n",
    "> <span style=\"color:blue\">\\# *Aggregate the DataFrame by group* </span><br>\n",
    "DataFrame.groupby(<span style=\"color:red\">'group'</span>).sum()<br>\n",
    "\n",
    "If we want to apply different aggregation methods to each column, we can with a different syntax\n",
    "> <span style=\"color:blue\">\\# *Aggregate the DataFrame by group* </span><br>\n",
    "DataFrame.groupby(<span style=\"color:red\">'group'</span>).agg({<br>\n",
    "&emsp;&emsp;&emsp;&emsp;&emsp;&emsp;&emsp;&emsp;&emsp;&emsp;&emsp;&emsp; <span style=\"color:red\">'Column1'</span> : <span style=\"color:red\">'sum'</span>, <span style=\"color:blue\">\\# *take the sum of Column1*</span> <br>\n",
    "&emsp;&emsp;&emsp;&emsp;&emsp;&emsp;&emsp;&emsp;&emsp;&emsp;&emsp;&emsp; <span style=\"color:red\">'Column2'</span> : <span style=\"color:red\">'mean'</span>, <span style=\"color:blue\">\\# *take the mean of Column2*</span> <br>\n",
    "&emsp;&emsp;&emsp;&emsp;&emsp;&emsp;&emsp;&emsp;&emsp;&emsp;&emsp;&emsp; <span style=\"color:red\">'Column3'</span> : <span style=\"color:red\">'max' </span><span style=\"color:blue\">\\# *take the max of Column3*</span> <br>\n",
    "})\n",
    "\n",
    "In this example, *group* is the name of the Column we want to group by and *sum/mean/max* are the aggregation methods.\n",
    "\n",
    "[Here is the groupby documentation](https://pandas.pydata.org/pandas-docs/stable/reference/api/pandas.DataFrame.groupby.html)"
   ]
  },
  {
   "cell_type": "code",
   "execution_count": 29,
   "id": "eed11681",
   "metadata": {
    "cell_id": "00064-0819fa3b-89ca-4977-ba54-086704735b41",
    "deepnote_cell_type": "code",
    "deepnote_to_be_reexecuted": true,
    "source_hash": "e8dd321b"
   },
   "outputs": [],
   "source": [
    "payment.groupby('customer_id').sum().head()"
   ]
  },
  {
   "cell_type": "markdown",
   "id": "e777d6f1",
   "metadata": {
    "cell_id": "00065-fff642a9-8b78-45df-8cbc-d6881fffcd35",
    "deepnote_cell_type": "markdown"
   },
   "source": [
    "The sums of payment_id, staff_id and rental_id do not make sense, so we should omit those. We can do so by filtering"
   ]
  },
  {
   "cell_type": "code",
   "execution_count": 30,
   "id": "675f4dc1",
   "metadata": {
    "cell_id": "00066-7e6c7db0-e292-41a0-a89b-a78d47275acf",
    "deepnote_cell_type": "code",
    "deepnote_to_be_reexecuted": true,
    "source_hash": "912e27a"
   },
   "outputs": [],
   "source": [
    "payment[['customer_id', 'amount']].groupby('customer_id').sum()"
   ]
  },
  {
   "cell_type": "markdown",
   "id": "801b2dbb",
   "metadata": {
    "cell_id": "00067-3796c48e-4f80-4e08-b323-788ca4f5d54d",
    "deepnote_cell_type": "markdown"
   },
   "source": [
    "<div class=\"alert alert-block alert-warning\">\n",
    "<b>Note</b>\n",
    "This is the same as a SQL GROUP BY clause<br>\n",
    "    \n",
    "> <span style=\"color:purple;font-weight:bold\">SELECT</span> customer_id, <span style=\"color:purple;font-weight:bold\">SUM</span>(amount)<br>\n",
    "<span style=\"color:purple;font-weight:bold\">FROM</span> customer<br>\n",
    "<span style=\"color:purple;font-weight:bold\">GROUP BY</span> customer_id\n",
    "    </div>"
   ]
  },
  {
   "cell_type": "markdown",
   "id": "66e522a2",
   "metadata": {
    "cell_id": "00068-eed03c72-a336-410e-96ba-7083240ebcae",
    "deepnote_cell_type": "markdown"
   },
   "source": [
    "We can find the customers who have spent the most by ordering them:"
   ]
  },
  {
   "cell_type": "code",
   "execution_count": 31,
   "id": "965a3471",
   "metadata": {
    "cell_id": "00069-3b6da3e8-4a06-4f3f-ab46-07f854bfcc59",
    "deepnote_cell_type": "code",
    "deepnote_to_be_reexecuted": true,
    "source_hash": "98dfcf2e"
   },
   "outputs": [],
   "source": [
    "payment[['customer_id', 'amount']].groupby('customer_id').sum().sort_values(by='amount', ascending=False)"
   ]
  },
  {
   "cell_type": "markdown",
   "id": "48fce9cb",
   "metadata": {
    "cell_id": "00070-1aff72c4-0953-43db-969c-b25a1870e096",
    "deepnote_cell_type": "markdown"
   },
   "source": [
    "---\n",
    "<div class=\"alert alert-block alert-info\">\n",
    "<b>Task:</b> <ul>\n",
    "<li> Find the staff member who has the highest average sale\n",
    "</ul></div>"
   ]
  },
  {
   "cell_type": "code",
   "execution_count": 32,
   "id": "46270410",
   "metadata": {
    "cell_id": "00071-e74c3c71-72c1-49a6-a4d5-cc8618ab2e53",
    "deepnote_cell_type": "code",
    "deepnote_to_be_reexecuted": true,
    "source_hash": "8323a706"
   },
   "outputs": [],
   "source": [
    "# ** Task 3 ** #\n",
    "# Find the staff member who has the highest average sale\n",
    "\n",
    "# --------------------------------------------------- #\n",
    "\n",
    "\n",
    "\n",
    "# --------------------------------------------------- #\n"
   ]
  },
  {
   "cell_type": "markdown",
   "id": "f92e5daf",
   "metadata": {
    "cell_id": "00072-3b5c0427-1154-4ca7-9d83-69187e50e871",
    "deepnote_cell_type": "markdown"
   },
   "source": [
    "<details>\n",
    "    <summary style=\"color:green;font-weight:bold\">Click here for the answer to task 3</summary>\n",
    "    \n",
    "> payment[[<span style=\"color:red\">'staff_id'</span>, <span style=\"color:red\">'amount'</span>]].<span style=\"color:green\">groupby</span>(<span style=\"color:red\">'staff_id'</span>).<span style=\"color:green\">mean</span>().<span style=\"color:green\">sort_values</span>(by=<span style=\"color:red\">'amount'</span>, ascending=False)\n",
    "    \n",
    "\n",
    "</details>"
   ]
  },
  {
   "cell_type": "code",
   "execution_count": 33,
   "id": "4dc4c489",
   "metadata": {
    "cell_id": "00073-9d585123-67d5-4f22-9a75-a0a107b3b045",
    "deepnote_cell_type": "code",
    "deepnote_to_be_reexecuted": true,
    "source_hash": "110e0058"
   },
   "outputs": [],
   "source": [
    "payment.describe()"
   ]
  },
  {
   "cell_type": "markdown",
   "id": "dc34d836",
   "metadata": {
    "cell_id": "00074-eed9e1ce-88e0-4d10-935c-e22ed27bef8e",
    "deepnote_cell_type": "markdown"
   },
   "source": [
    "---\n",
    "<a id=\"merge\"></a>\n",
    "# Merging data\n",
    "[Back to Contents](#Contents)\n",
    "\n",
    "So far, we have only looked at one table at a time. If we want information from multiple tables we will need to join them together.\n",
    "\n",
    "The syntax for merging two DataFrames is:\n",
    "> <span style=\"color:blue\">\\# *Merge the left and right DataFrames* </span><br>\n",
    "pd.merge(<br>\n",
    "&nbsp;&nbsp;&nbsp;&nbsp;&nbsp;&nbsp;left, <br>\n",
    "&nbsp;&nbsp;&nbsp;&nbsp;&nbsp;&nbsp;right,<br>\n",
    "&nbsp;&nbsp;&nbsp;&nbsp;&nbsp;&nbsp;how = <span style=\"color:red\">'inner'</span>,<br>\n",
    "&nbsp;&nbsp;&nbsp;&nbsp;&nbsp;&nbsp;left_on = <span style=\"color:red\">'left_join_field'</span>,<br>\n",
    "&nbsp;&nbsp;&nbsp;&nbsp;&nbsp;&nbsp;right_on = <span style=\"color:red\">'right_join_field'</span><br>\n",
    ")\n",
    "\n",
    "In this example, *left* is the name of the first DataFrames in the join (just like in a SQL join), *right* is the name of the second DataFrames in the join and *how* is the way we join them (can be 'left' or 'inner'). The *left_join_field* and *right_join_field* are the Series to merge on.\n",
    "\n",
    "[The merge documentation can be found here](https://pandas.pydata.org/pandas-docs/stable/user_guide/merging.html#database-style-dataframe-or-named-series-joining-merging)"
   ]
  },
  {
   "cell_type": "code",
   "execution_count": null,
   "id": "a5b10ad1",
   "metadata": {
    "cell_id": "00075-7e677ba2-97c9-454c-a6de-b4c2f8a498e5",
    "deepnote_cell_type": "code",
    "deepnote_to_be_reexecuted": true,
    "source_hash": "dfebb3d1"
   },
   "outputs": [],
   "source": [
    "## Merge the DataFrames using the .merge() method\n",
    "\n",
    "pd.merge(left = customer,\n",
    "         right = payment,\n",
    "         how = 'left',\n",
    "         left_on = 'customer_id',\n",
    "         right_on = 'customer_id'\n",
    "        ).head()"
   ]
  },
  {
   "cell_type": "markdown",
   "id": "c560a963",
   "metadata": {
    "cell_id": "00076-5027ecce-0694-4751-9c6c-1127d54b19c6",
    "deepnote_cell_type": "markdown"
   },
   "source": [
    "<div class=\"alert alert-block alert-warning\">\n",
    "<b>Note</b>\n",
    "This is the same as a SQL JOIN clause<br>\n",
    "    \n",
    "> <span style=\"color:purple;font-weight:bold\">SELECT</span> *<br>\n",
    "<span style=\"color:purple;font-weight:bold\">FROM</span> customer<br>\n",
    "<span style=\"color:purple;font-weight:bold\">LEFT JOIN</span> payment \n",
    "    <span style=\"color:purple;font-weight:bold\">ON</span> customer.customer_id = payment.customer_id\n",
    "    </div>"
   ]
  },
  {
   "cell_type": "markdown",
   "id": "2baa2388",
   "metadata": {
    "cell_id": "00077-90c23f43-83b8-41cd-9237-1dc148afb364",
    "deepnote_cell_type": "markdown"
   },
   "source": [
    "## Lets look at our original question: Which EU countries have the most profitable customers?"
   ]
  },
  {
   "cell_type": "markdown",
   "id": "19cf61f2",
   "metadata": {
    "cell_id": "00078-1e604ed6-7b40-4249-9a11-51dcdf1842a9",
    "deepnote_cell_type": "markdown"
   },
   "source": [
    "Lets find the total spent by the customers over the first 5 months of 2017"
   ]
  },
  {
   "cell_type": "code",
   "execution_count": null,
   "id": "4e704843",
   "metadata": {
    "cell_id": "00079-afe30aac-8423-43f8-aa5f-af76a6efa5a3",
    "deepnote_cell_type": "code",
    "deepnote_to_be_reexecuted": true,
    "source_hash": "35639f74"
   },
   "outputs": [],
   "source": [
    "customer_payments = payment[['customer_id', 'amount']].groupby('customer_id').sum()\n",
    "customer_payments.head()"
   ]
  },
  {
   "cell_type": "markdown",
   "id": "505ed18f",
   "metadata": {
    "cell_id": "00080-1187b3e4-8ce8-4111-9f0f-f6a10d92a675",
    "deepnote_cell_type": "markdown"
   },
   "source": [
    "lets rename that column to ``total_amount``"
   ]
  },
  {
   "cell_type": "code",
   "execution_count": null,
   "id": "195e5617",
   "metadata": {
    "cell_id": "00081-c8670cce-5a95-45d4-9cbf-521ca7d01e59",
    "deepnote_cell_type": "code",
    "deepnote_to_be_reexecuted": true,
    "source_hash": "b838562"
   },
   "outputs": [],
   "source": [
    "customer_payments.rename(columns={'amount': 'total_amount'}, inplace=True)\n",
    "customer_payments.columns"
   ]
  },
  {
   "cell_type": "markdown",
   "id": "bc49fe25",
   "metadata": {
    "cell_id": "00082-5dcf6464-453d-4b21-8079-ef14bd5d4ae5",
    "deepnote_cell_type": "markdown"
   },
   "source": [
    "We will need some other tables to allow us to find out which country each customer is in"
   ]
  },
  {
   "cell_type": "code",
   "execution_count": null,
   "id": "6deb692a",
   "metadata": {
    "cell_id": "00083-7473c43e-9447-4ffc-9daf-27a907376d14",
    "deepnote_cell_type": "code",
    "deepnote_to_be_reexecuted": true,
    "source_hash": "986140db"
   },
   "outputs": [],
   "source": [
    "address = pd.read_csv('./data/address.csv')\n",
    "city = pd.read_csv('./data/city.csv')\n",
    "country = pd.read_csv('./data/country.csv')"
   ]
  },
  {
   "cell_type": "markdown",
   "id": "88e7fb64",
   "metadata": {
    "cell_id": "00084-cfe80bee-fc40-437b-ad74-cf243a18e8c5",
    "deepnote_cell_type": "markdown"
   },
   "source": [
    "We are going to do many merges, so lets use a slightly different syntax, the *method* ``merge`` rather than the function\n",
    "\n",
    "We can find its documentation [here](https://pandas.pydata.org/pandas-docs/stable/reference/api/pandas.DataFrame.merge.html?highlight=merge#pandas.DataFrame.merge)"
   ]
  },
  {
   "cell_type": "code",
   "execution_count": null,
   "id": "e06d7c83",
   "metadata": {
    "cell_id": "00085-175f06ac-6275-4470-8a40-b38d6447e7cf",
    "deepnote_cell_type": "code",
    "deepnote_to_be_reexecuted": true,
    "source_hash": "c4d3a86a"
   },
   "outputs": [],
   "source": [
    "customer_payment_full_details = customer.merge(right = customer_payments,\n",
    "                                               how = 'left',\n",
    "                                               left_on = 'customer_id',\n",
    "                                               right_on = 'customer_id'\n",
    "                                              ).merge(right = address,\n",
    "                                                      how = 'left',\n",
    "                                                      left_on = 'address_id',\n",
    "                                                      right_on = 'address_id'\n",
    "                                                     ).merge(right = city,\n",
    "                                                             how = 'left',\n",
    "                                                             left_on = 'city_id',\n",
    "                                                             right_on = 'city_id'\n",
    "                                                            ).merge(right = country,\n",
    "                                                              how = 'left',\n",
    "                                                              left_on = 'country_id',\n",
    "                                                              right_on = 'country_id')\n",
    "\n",
    "customer_payment_full_details.head(5)"
   ]
  },
  {
   "cell_type": "markdown",
   "id": "d424c184",
   "metadata": {
    "cell_id": "00086-f08215c1-01cb-403a-9867-5fda68cd85ad",
    "deepnote_cell_type": "markdown"
   },
   "source": [
    "We don't want most of these columns, so lets only keep the ones we need. To do that, it helps to know which ones there are:"
   ]
  },
  {
   "cell_type": "code",
   "execution_count": null,
   "id": "58a75825",
   "metadata": {
    "cell_id": "00087-07b4290a-9b84-4db1-aaf6-d4c904b757d9",
    "deepnote_cell_type": "code",
    "deepnote_to_be_reexecuted": true,
    "source_hash": "9f202ee"
   },
   "outputs": [],
   "source": [
    "customer_payment_full_details.columns"
   ]
  },
  {
   "cell_type": "code",
   "execution_count": null,
   "id": "9e1d28f2",
   "metadata": {
    "cell_id": "00088-8eae3fd8-85a9-4d0e-a109-fac7b07978a2",
    "deepnote_cell_type": "code",
    "deepnote_to_be_reexecuted": true,
    "source_hash": "8bda1001"
   },
   "outputs": [],
   "source": [
    "customer_payment_details = customer_payment_full_details[['customer_id', 'address_id', 'activebool', 'total_amount', \n",
    "                                                          'city_id', 'city', 'country_id', 'country']]\n",
    "customer_payment_details.head()"
   ]
  },
  {
   "cell_type": "code",
   "execution_count": null,
   "id": "82264ca5",
   "metadata": {
    "cell_id": "00089-48e66da1-3938-4fc8-b904-812eaf842747",
    "deepnote_cell_type": "code",
    "deepnote_to_be_reexecuted": true,
    "source_hash": "447eee91"
   },
   "outputs": [],
   "source": [
    "useful_columns = ['customer_id', 'total_amount', 'country_id', 'country']\n",
    "\n",
    "customer_payment_details_grouped = customer_payment_details[useful_columns].groupby('country_id')\n",
    "\n",
    "avg_country_customer = customer_payment_details_grouped.agg({'total_amount':'mean', 'country':'max'})\n",
    "\n",
    "avg_country_customer.sort_values('total_amount', ascending=False).head()"
   ]
  },
  {
   "cell_type": "code",
   "execution_count": null,
   "id": "93d281a0",
   "metadata": {
    "cell_id": "00090-4706c242-e09a-4998-ab26-1b85c9a93cf9",
    "deepnote_cell_type": "code",
    "deepnote_to_be_reexecuted": true,
    "source_hash": "a427806f"
   },
   "outputs": [],
   "source": [
    "avg_country_customer.plot.barh(x='country', y='total_amount');"
   ]
  },
  {
   "cell_type": "markdown",
   "id": "44e8635a",
   "metadata": {
    "cell_id": "00091-b2b541a9-974c-46b9-b34c-6270ceab081d",
    "deepnote_cell_type": "markdown"
   },
   "source": [
    "Lets tidy this up a bit:"
   ]
  },
  {
   "cell_type": "code",
   "execution_count": null,
   "id": "26ebe101",
   "metadata": {
    "cell_id": "00092-181330f1-09e6-45fd-95d0-c1a8934d231f",
    "deepnote_cell_type": "code",
    "deepnote_to_be_reexecuted": true,
    "source_hash": "aa08017b"
   },
   "outputs": [],
   "source": [
    "avg_country_customer.sort_values('total_amount', inplace=True)"
   ]
  },
  {
   "cell_type": "code",
   "execution_count": null,
   "id": "a86ed016",
   "metadata": {
    "cell_id": "00093-e6c8ea24-7327-4523-a0fa-5420c8515356",
    "deepnote_cell_type": "code",
    "deepnote_to_be_reexecuted": true,
    "source_hash": "c989d3ea"
   },
   "outputs": [],
   "source": [
    "avg_country_customer.head()"
   ]
  },
  {
   "cell_type": "code",
   "execution_count": null,
   "id": "8472e0bc",
   "metadata": {
    "cell_id": "00094-74db22fd-667a-4801-9fd8-a6fe3d492c67",
    "deepnote_cell_type": "code",
    "deepnote_to_be_reexecuted": true,
    "source_hash": "3ffedfba"
   },
   "outputs": [],
   "source": [
    "#avg_country_customer.country.unique()\n",
    "eu_countries = ['Austria', 'Belgium', 'Bulgaria', 'Croatia', 'Czech Republic', 'Denmark', 'Estonia', 'Finland', 'France', \n",
    "                'Germany', 'Greece', 'Hungary', 'Ireland', 'Italy', 'Latvia', 'Lithuania', 'Luxembourg', 'Malta', 'Netherlands', \n",
    "                'Poland', 'Portugal', 'Romania', 'Slovakia', 'Slovenia', 'Spain', 'Sweden']"
   ]
  },
  {
   "cell_type": "code",
   "execution_count": null,
   "id": "9a3a7b72",
   "metadata": {
    "cell_id": "00095-0bfde671-e155-402d-96a3-2d055ea3b3cf",
    "deepnote_cell_type": "code",
    "deepnote_to_be_reexecuted": true,
    "source_hash": "89526564"
   },
   "outputs": [],
   "source": [
    "avg_eu_country_customer = avg_country_customer[avg_country_customer['country'].isin(eu_countries)]"
   ]
  },
  {
   "cell_type": "code",
   "execution_count": null,
   "id": "a7aac177",
   "metadata": {
    "cell_id": "00096-cd4cfc60-c85a-4143-8f94-c78a8b1f5317",
    "deepnote_cell_type": "code",
    "deepnote_to_be_reexecuted": true,
    "source_hash": "ccdd2380"
   },
   "outputs": [],
   "source": [
    "avg_eu_country_customer.plot.barh(x='country', y='total_amount', figsize=(6, 6));"
   ]
  },
  {
   "cell_type": "markdown",
   "id": "73c0c4a6",
   "metadata": {
    "cell_id": "00097-7e224e3a-3b2f-42ab-9c2b-5245cda4fbd6",
    "deepnote_cell_type": "markdown"
   },
   "source": [
    "---\n",
    "<a id=\"export\"></a>\n",
    "# Export data to a CSV or Excel\n",
    "\n",
    "### CSV\n",
    "\n",
    "Now that we have the data in the shape that we want, we can use *to_csv* to write the data to a csv file.\n",
    "\n",
    "The syntax for exporting data to a CSV is:\n",
    ">DataFrame.to_csv(<span style='color:red'>'folder/file.csv'</span>)\n",
    "\n",
    "In this example *DataFrame* is the name of the DataFrame that we export to a file called *file.csv* in a folder called *folder*. We make use of the *.to_csv()* method. \n",
    "\n",
    "[You can find the details for to_csv here](https://pandas.pydata.org/pandas-docs/stable/reference/api/pandas.DataFrame.to_csv.html)"
   ]
  },
  {
   "cell_type": "code",
   "execution_count": null,
   "id": "7e771821",
   "metadata": {
    "cell_id": "00098-6b5978b1-3727-4716-a84d-a9aa711b87f8",
    "deepnote_cell_type": "code",
    "deepnote_to_be_reexecuted": true,
    "source_hash": "1283fa7e"
   },
   "outputs": [],
   "source": [
    "customer_payment_details.to_csv('data/customer_payment_details.csv')"
   ]
  },
  {
   "cell_type": "markdown",
   "id": "9f9875ba",
   "metadata": {
    "cell_id": "00099-fb51f594-95f7-46e2-a578-33e2fc0993a6",
    "deepnote_cell_type": "markdown"
   },
   "source": [
    "### Excel spreadsheet\n",
    "\n",
    "We can also use ``to_excel`` to write the data to an excel file.\n",
    "\n",
    "[Here is the documentation for to_excel](https://pandas.pydata.org/pandas-docs/stable/reference/api/pandas.DataFrame.to_excel.html#pandas.DataFrame.to_excel)"
   ]
  },
  {
   "cell_type": "code",
   "execution_count": null,
   "id": "1881bb57",
   "metadata": {
    "cell_id": "00100-fac6ecd2-9de6-4c1f-9218-0a59406549c4",
    "deepnote_cell_type": "code",
    "deepnote_to_be_reexecuted": true,
    "source_hash": "9e7f1688"
   },
   "outputs": [],
   "source": [
    "customer_payment_details.to_excel('data/customer.xlsx', sheet_name='payment_details')"
   ]
  },
  {
   "cell_type": "markdown",
   "id": "b18d6bb9",
   "metadata": {
    "cell_id": "00107-40948a29-f8ee-4189-bd3d-6cd5978f6278",
    "deepnote_cell_type": "markdown"
   },
   "source": [
    "---\n",
    "<a id=\"further\"></a>\n",
    "# Further reading\n",
    "[Back to Contents](#Contents)\n",
    "\n",
    "### Tutorials\n",
    "- [Automate the Boring Stuff with Python](https://automatetheboringstuff.com/) is an online (and paper!) book with basic Python tutorials and inspiration on what to do with Python.\n",
    "- [Towards Data Science](https://towardsdatascience.com/) has articles about data science and data science tools, many of which rely on Python.\n",
    "- [stack**overflow**](https://stackoverflow.com/questions/tagged/python) is a question and answer site for programming questions.\n",
    "- [scipy lectures](http://scipy-lectures.org/) are a tutorial for using Python in Scientific computing, including data analysis\n",
    "\n",
    "### Pandas information\n",
    "- [Pandas cheatsheet](https://github.com/pandas-dev/pandas/blob/master/doc/cheatsheet/Pandas_Cheat_Sheet.pdf)\n",
    "- [Pandas comparison with SQL](https://pandas.pydata.org/pandas-docs/stable/getting_started/comparison/comparison_with_sql.html)\n",
    "- On Aptem, in the ***Python Videos*** component of the Learning plan overview, there is the ***Corndel Pandas Methods.zip***\n",
    "\n",
    "### Useful packages\n",
    "#### Plotting\n",
    "- [MatPlotLib](https://matplotlib.org/) is the basis for the Pandas plotting and can get quite complicated. It has its own [cheatsheet](https://github.com/matplotlib/cheatsheets#cheatsheets), which can be useful for enhancing Pandas plots.\n",
    "- [Seaborn](https://seaborn.pydata.org/) makes pretty plots with simple syntax, but is focused on specific statistical plots, not general purpose plotting. It is also based on MatPlotLib.\n",
    "\n",
    "#### Data analysis\n",
    "- [numpy](https://numpy.org/) is a numerical data manipulation package. Pandas relies heavily on numpy.\n"
   ]
  }
 ],
 "metadata": {
  "deepnote": {},
  "deepnote_execution_queue": [],
  "deepnote_notebook_id": "39acaa71-6514-4ebf-8bcd-bc50c9a618e1",
  "kernelspec": {
   "display_name": "Python 3",
   "language": "python",
   "name": "python3"
  },
  "language_info": {
   "codemirror_mode": {
    "name": "ipython",
    "version": 3
   },
   "file_extension": ".py",
   "mimetype": "text/x-python",
   "name": "python",
   "nbconvert_exporter": "python",
   "pygments_lexer": "ipython3",
   "version": "3.8.8"
  }
 },
 "nbformat": 4,
 "nbformat_minor": 5
}
